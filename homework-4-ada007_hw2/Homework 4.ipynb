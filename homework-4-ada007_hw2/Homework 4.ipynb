{
 "cells": [
  {
   "cell_type": "markdown",
   "metadata": {},
   "source": [
    "## Assignment 4: Obsevational Studies and Applied ML\n",
    "\n",
    "### Deadline\n",
    "November 21st,11:59PM\n",
    "\n",
    "### Important notes\n",
    "\n",
    "Make sure you push on GitHub your notebook with all the cells already evaluated. Don't forget to add a textual description of your thought process, the assumptions you made, and the solution you implemented. Back up any hypotheses and claims with data, since this is an important aspect of the course. Please write all your comments in English, and use meaningful variable names in your code. Your repo should have a single notebook (plus the data files necessary) in the master branch. If there are multiple notebooks present, we will not grade anything.\n",
    "\n",
    "Use this legendary link to create your repository: [link](https://classroom.github.com/g/YXtsr0QK)"
   ]
  },
  {
   "cell_type": "code",
   "execution_count": 1,
   "metadata": {},
   "outputs": [],
   "source": [
    "# Basic package\n",
    "import pandas as pd\n",
    "import numpy as np\n",
    "\n",
    "# Math package\n",
    "import scipy\n",
    "from scipy.stats import *\n",
    "from sklearn.linear_model import LogisticRegression\n",
    "from sklearn.ensemble import RandomForestClassifier\n",
    "import itertools\n",
    "from itertools import combinations\n",
    "\n",
    "# Plot package \n",
    "import matplotlib.pyplot as plt\n",
    "from pandas.plotting import scatter_matrix\n",
    "import seaborn as sns\n",
    "%matplotlib inline\n",
    "\n",
    "# Others\n",
    "import warnings\n",
    "warnings.filterwarnings('ignore')"
   ]
  },
  {
   "cell_type": "code",
   "execution_count": 2,
   "metadata": {},
   "outputs": [],
   "source": [
    "data_folder = './data/'"
   ]
  },
  {
   "cell_type": "markdown",
   "metadata": {},
   "source": [
    "## Task 1: Boosting the economy by incentivizing self-employment\n",
    "\n",
    "Assume the biggest priority of the local government in 2018 is to increase per-capita income. To do so, the officials plan to adopt a strategy for incentivizing self-employment through a series of campaigns, educational programs, and dedicated funds.\n",
    "\n",
    "Since it is unethical and impossible in this setting to run a controlled experiment involving citizens (e.g., fire employees and force them to self-employ), the officials have asked you, the data scientist, to establish the effect of self-employment on the economy, relying on observational data.\n",
    "\n",
    "**A)** You will be working with the full US 2015 census dataset (acs2015_county_data.csv, available at https://www.kaggle.com/muonneutrino/us-census-demographic-data#acs2015_county_data.csv). Using suitable methods, determine and quantify the dependency between the percentage of self-employed citizens and per capita income across all 3,221 US counties. Do citizens in counties that have a higher percentage of self-employed people earn more per capita?\n",
    "\n",
    "**B)** The pilot program will involve all counties within a limited set of three US states. Set A includes Wisconsin, Tennessee, and  Minnesota. Quantify the dependency of per-capita income on self-employment rates across all the counties in set A.\n",
    "\n",
    "**C)** In which state within set A is the observed effect of self-employment on per-capita income the strongest?\n",
    "\n",
    "**D)** Set B includes New Jersey, Kansas, and Rhode Island. Repeat the analysis from steps B and C above, but now for set B. In which of the two sets A and B (if any) would you recommend incentivizing self-employment? Explain your reasoning.\n",
    "\n",
    "Hint: It is useful to add a notion of confidence to your results and explore the data visually. You are allowed to use the SciPy library."
   ]
  },
  {
   "cell_type": "code",
   "execution_count": 3,
   "metadata": {},
   "outputs": [
    {
     "data": {
      "text/html": [
       "<div>\n",
       "<style scoped>\n",
       "    .dataframe tbody tr th:only-of-type {\n",
       "        vertical-align: middle;\n",
       "    }\n",
       "\n",
       "    .dataframe tbody tr th {\n",
       "        vertical-align: top;\n",
       "    }\n",
       "\n",
       "    .dataframe thead th {\n",
       "        text-align: right;\n",
       "    }\n",
       "</style>\n",
       "<table border=\"1\" class=\"dataframe\">\n",
       "  <thead>\n",
       "    <tr style=\"text-align: right;\">\n",
       "      <th></th>\n",
       "      <th>CensusId</th>\n",
       "      <th>State</th>\n",
       "      <th>County</th>\n",
       "      <th>TotalPop</th>\n",
       "      <th>Men</th>\n",
       "      <th>Women</th>\n",
       "      <th>Hispanic</th>\n",
       "      <th>White</th>\n",
       "      <th>Black</th>\n",
       "      <th>Native</th>\n",
       "      <th>...</th>\n",
       "      <th>Walk</th>\n",
       "      <th>OtherTransp</th>\n",
       "      <th>WorkAtHome</th>\n",
       "      <th>MeanCommute</th>\n",
       "      <th>Employed</th>\n",
       "      <th>PrivateWork</th>\n",
       "      <th>PublicWork</th>\n",
       "      <th>SelfEmployed</th>\n",
       "      <th>FamilyWork</th>\n",
       "      <th>Unemployment</th>\n",
       "    </tr>\n",
       "  </thead>\n",
       "  <tbody>\n",
       "    <tr>\n",
       "      <th>0</th>\n",
       "      <td>1001</td>\n",
       "      <td>Alabama</td>\n",
       "      <td>Autauga</td>\n",
       "      <td>55221</td>\n",
       "      <td>26745</td>\n",
       "      <td>28476</td>\n",
       "      <td>2.6</td>\n",
       "      <td>75.8</td>\n",
       "      <td>18.5</td>\n",
       "      <td>0.4</td>\n",
       "      <td>...</td>\n",
       "      <td>0.5</td>\n",
       "      <td>1.3</td>\n",
       "      <td>1.8</td>\n",
       "      <td>26.5</td>\n",
       "      <td>23986</td>\n",
       "      <td>73.6</td>\n",
       "      <td>20.9</td>\n",
       "      <td>5.5</td>\n",
       "      <td>0.0</td>\n",
       "      <td>7.6</td>\n",
       "    </tr>\n",
       "    <tr>\n",
       "      <th>1</th>\n",
       "      <td>1003</td>\n",
       "      <td>Alabama</td>\n",
       "      <td>Baldwin</td>\n",
       "      <td>195121</td>\n",
       "      <td>95314</td>\n",
       "      <td>99807</td>\n",
       "      <td>4.5</td>\n",
       "      <td>83.1</td>\n",
       "      <td>9.5</td>\n",
       "      <td>0.6</td>\n",
       "      <td>...</td>\n",
       "      <td>1.0</td>\n",
       "      <td>1.4</td>\n",
       "      <td>3.9</td>\n",
       "      <td>26.4</td>\n",
       "      <td>85953</td>\n",
       "      <td>81.5</td>\n",
       "      <td>12.3</td>\n",
       "      <td>5.8</td>\n",
       "      <td>0.4</td>\n",
       "      <td>7.5</td>\n",
       "    </tr>\n",
       "    <tr>\n",
       "      <th>2</th>\n",
       "      <td>1005</td>\n",
       "      <td>Alabama</td>\n",
       "      <td>Barbour</td>\n",
       "      <td>26932</td>\n",
       "      <td>14497</td>\n",
       "      <td>12435</td>\n",
       "      <td>4.6</td>\n",
       "      <td>46.2</td>\n",
       "      <td>46.7</td>\n",
       "      <td>0.2</td>\n",
       "      <td>...</td>\n",
       "      <td>1.8</td>\n",
       "      <td>1.5</td>\n",
       "      <td>1.6</td>\n",
       "      <td>24.1</td>\n",
       "      <td>8597</td>\n",
       "      <td>71.8</td>\n",
       "      <td>20.8</td>\n",
       "      <td>7.3</td>\n",
       "      <td>0.1</td>\n",
       "      <td>17.6</td>\n",
       "    </tr>\n",
       "  </tbody>\n",
       "</table>\n",
       "<p>3 rows × 37 columns</p>\n",
       "</div>"
      ],
      "text/plain": [
       "   CensusId    State   County  TotalPop    Men  Women  Hispanic  White  Black  \\\n",
       "0      1001  Alabama  Autauga     55221  26745  28476       2.6   75.8   18.5   \n",
       "1      1003  Alabama  Baldwin    195121  95314  99807       4.5   83.1    9.5   \n",
       "2      1005  Alabama  Barbour     26932  14497  12435       4.6   46.2   46.7   \n",
       "\n",
       "   Native      ...       Walk  OtherTransp  WorkAtHome  MeanCommute  Employed  \\\n",
       "0     0.4      ...        0.5          1.3         1.8         26.5     23986   \n",
       "1     0.6      ...        1.0          1.4         3.9         26.4     85953   \n",
       "2     0.2      ...        1.8          1.5         1.6         24.1      8597   \n",
       "\n",
       "   PrivateWork  PublicWork  SelfEmployed  FamilyWork  Unemployment  \n",
       "0         73.6        20.9           5.5         0.0           7.6  \n",
       "1         81.5        12.3           5.8         0.4           7.5  \n",
       "2         71.8        20.8           7.3         0.1          17.6  \n",
       "\n",
       "[3 rows x 37 columns]"
      ]
     },
     "execution_count": 3,
     "metadata": {},
     "output_type": "execute_result"
    }
   ],
   "source": [
    "# Read data into pandas dataframe\n",
    "Censu = pd.read_csv(data_folder + \"acs2015_county_data.csv\")\n",
    "Censu.head(3)"
   ]
  },
  {
   "cell_type": "markdown",
   "metadata": {},
   "source": [
    "###  Task 1.A \n",
    "Using suitable methods, determine and quantify the dependency between the percentage of self-employed citizens and per capita income across all 3,221 US counties. Do citizens in counties that have a higher percentage of self-employed people earn more per capita?"
   ]
  },
  {
   "cell_type": "code",
   "execution_count": 4,
   "metadata": {},
   "outputs": [
    {
     "data": {
      "text/html": [
       "<div>\n",
       "<style scoped>\n",
       "    .dataframe tbody tr th:only-of-type {\n",
       "        vertical-align: middle;\n",
       "    }\n",
       "\n",
       "    .dataframe tbody tr th {\n",
       "        vertical-align: top;\n",
       "    }\n",
       "\n",
       "    .dataframe thead th {\n",
       "        text-align: right;\n",
       "    }\n",
       "</style>\n",
       "<table border=\"1\" class=\"dataframe\">\n",
       "  <thead>\n",
       "    <tr style=\"text-align: right;\">\n",
       "      <th></th>\n",
       "      <th>IncomePerCap</th>\n",
       "      <th>SelfEmployed</th>\n",
       "    </tr>\n",
       "  </thead>\n",
       "  <tbody>\n",
       "    <tr>\n",
       "      <th>0</th>\n",
       "      <td>24974</td>\n",
       "      <td>5.5</td>\n",
       "    </tr>\n",
       "    <tr>\n",
       "      <th>1</th>\n",
       "      <td>27317</td>\n",
       "      <td>5.8</td>\n",
       "    </tr>\n",
       "    <tr>\n",
       "      <th>2</th>\n",
       "      <td>16824</td>\n",
       "      <td>7.3</td>\n",
       "    </tr>\n",
       "  </tbody>\n",
       "</table>\n",
       "</div>"
      ],
      "text/plain": [
       "   IncomePerCap  SelfEmployed\n",
       "0         24974           5.5\n",
       "1         27317           5.8\n",
       "2         16824           7.3"
      ]
     },
     "execution_count": 4,
     "metadata": {},
     "output_type": "execute_result"
    }
   ],
   "source": [
    "# Show the data of income per cap and percentage of self-employed\n",
    "Census_income_self = Censu[[\"IncomePerCap\",\"SelfEmployed\"]]\n",
    "Census_income_self.head(3)"
   ]
  },
  {
   "cell_type": "code",
   "execution_count": 5,
   "metadata": {},
   "outputs": [
    {
     "name": "stdout",
     "output_type": "stream",
     "text": [
      "The pearson corelation coefficient between percentage of self-employed and income per cap is 0.087.\n",
      "The spearman corelation coefficient between percentage of self-employed and income per cap is 0.056.\n"
     ]
    },
    {
     "data": {
      "image/png": "[encoded data removed]",
      "text/plain": [
       "<matplotlib.figure.Figure at 0x1a0f315240>"
      ]
     },
     "metadata": {},
     "output_type": "display_data"
    }
   ],
   "source": [
    "# Show the pearson corelation coefficient between percentage of self-employed and income per cap in all counties of all states\n",
    "pear_coef = pearsonr(Census_income_self.SelfEmployed,Census_income_self.IncomePerCap)[0]\n",
    "print(\"The pearson corelation coefficient between percentage of self-employed and income per cap is {p:.3f}.\".format(p=pear_coef))\n",
    "\n",
    "# Show the spearman corelation coefficient between percentage of self-employed and income per cap in all counties of all states\n",
    "spearman_coef = spearmanr(Census_income_self.SelfEmployed,Census_income_self.IncomePerCap)[0]\n",
    "print(\"The spearman corelation coefficient between percentage of self-employed and income per cap is {s:.3f}.\".format(s=spearman_coef))\n",
    "\n",
    "# plot the relationship between percentage of self-employed and income per cap \n",
    "sns.scatterplot(x=\"SelfEmployed\", y=\"IncomePerCap\",data=Census_income_self)\n",
    "plt.title('Scatter plot of Data')\n",
    "plt.legend(('Data Points', ))\n",
    "plt.show()"
   ]
  },
  {
   "cell_type": "markdown",
   "metadata": {},
   "source": [
    "⬆From above, we can conclude that: \n",
    "1. The Pearson and spearman corelation coefficient of these two variables is 0.087 (<0.7), which means that these two variables **do not have strong linear relation** in pearson view. \n",
    "2. When we look at the scatter plot above, it is shown that there is **no obvious linear relationship** between these two variables. \n",
    "3. Therefore, we confirm that these two variables are not correlated and we **can not decide** whether the citizens in counties that have a higher percentage of self-employed people earn more per capita or not."
   ]
  },
  {
   "cell_type": "markdown",
   "metadata": {},
   "source": [
    "### Task 1.B \n",
    "The pilot program will involve all counties within a limited set of three US states. Set A includes Wisconsin, Tennessee, and Minnesota. Quantify the dependency of per-capita income on self-employment rates across all the counties in set A."
   ]
  },
  {
   "cell_type": "code",
   "execution_count": 6,
   "metadata": {},
   "outputs": [
    {
     "data": {
      "text/html": [
       "<div>\n",
       "<style scoped>\n",
       "    .dataframe tbody tr th:only-of-type {\n",
       "        vertical-align: middle;\n",
       "    }\n",
       "\n",
       "    .dataframe tbody tr th {\n",
       "        vertical-align: top;\n",
       "    }\n",
       "\n",
       "    .dataframe thead th {\n",
       "        text-align: right;\n",
       "    }\n",
       "</style>\n",
       "<table border=\"1\" class=\"dataframe\">\n",
       "  <thead>\n",
       "    <tr style=\"text-align: right;\">\n",
       "      <th></th>\n",
       "      <th>State</th>\n",
       "      <th>County</th>\n",
       "      <th>IncomePerCap</th>\n",
       "      <th>SelfEmployed</th>\n",
       "    </tr>\n",
       "  </thead>\n",
       "  <tbody>\n",
       "    <tr>\n",
       "      <th>1314</th>\n",
       "      <td>Minnesota</td>\n",
       "      <td>Aitkin</td>\n",
       "      <td>25591</td>\n",
       "      <td>9.2</td>\n",
       "    </tr>\n",
       "    <tr>\n",
       "      <th>1315</th>\n",
       "      <td>Minnesota</td>\n",
       "      <td>Anoka</td>\n",
       "      <td>31775</td>\n",
       "      <td>4.2</td>\n",
       "    </tr>\n",
       "    <tr>\n",
       "      <th>1316</th>\n",
       "      <td>Minnesota</td>\n",
       "      <td>Becker</td>\n",
       "      <td>26399</td>\n",
       "      <td>9.0</td>\n",
       "    </tr>\n",
       "  </tbody>\n",
       "</table>\n",
       "</div>"
      ],
      "text/plain": [
       "          State  County  IncomePerCap  SelfEmployed\n",
       "1314  Minnesota  Aitkin         25591           9.2\n",
       "1315  Minnesota   Anoka         31775           4.2\n",
       "1316  Minnesota  Becker         26399           9.0"
      ]
     },
     "execution_count": 6,
     "metadata": {},
     "output_type": "execute_result"
    }
   ],
   "source": [
    "# Filter out the data of income per cap and percentage of self-employed in set A\n",
    "Censu_SetA = Censu.loc[Censu[\"State\"].isin([\"Wisconsin\",\"Tennessee\",\"Minnesota\"])][[\"State\",\"County\",\"IncomePerCap\",\"SelfEmployed\"]]\n",
    "Censu_SetA.head(3)"
   ]
  },
  {
   "cell_type": "code",
   "execution_count": 7,
   "metadata": {
    "scrolled": true
   },
   "outputs": [
    {
     "name": "stdout",
     "output_type": "stream",
     "text": [
      "The pearson corelation coefficient between percentage of self-employed and income per cap in Set A is -0.202.\n"
     ]
    },
    {
     "data": {
      "image/png": "[encoded data removed]",
      "text/plain": [
       "<matplotlib.figure.Figure at 0x107f91eb8>"
      ]
     },
     "metadata": {},
     "output_type": "display_data"
    }
   ],
   "source": [
    "# Show the pearson corelation coefficient between percentage of self-employed and income per cap in set A\n",
    "pear_coef_A=pearsonr(Censu_SetA.SelfEmployed,Censu_SetA.IncomePerCap)[0]\n",
    "print(\"The pearson corelation coefficient between percentage of self-employed and income per cap in Set A is {p:.3f}.\".format(p=pear_coef_A))\n",
    "\n",
    "# Plot the relationship between percentage of self-employed and income per cap in set A\n",
    "sns.scatterplot(x=\"SelfEmployed\", y=\"IncomePerCap\",data=Censu_SetA)\n",
    "plt.title('Scatter plot of Data')\n",
    "plt.legend(('Data Points', ))\n",
    "plt.show()"
   ]
  },
  {
   "cell_type": "markdown",
   "metadata": {},
   "source": [
    "⬆From above, we can conclude that: \n",
    "1. First, we observe the Pearson corelation coefficient of these two variables in set B is -0.202 (<0.7), which means that these two variables **has very weak linear relation** in pearson view. \n",
    "2. Second, as the scatter plot shown, there are many points with a high SelfDmployed rate but a low InconePerCap, and some points with a low SelfDmployed but a high InconePerCap. In conclusion, the correlation between the SelfDmployedand the InconePerCap is **not striking**."
   ]
  },
  {
   "cell_type": "markdown",
   "metadata": {},
   "source": [
    "### Task 1.C  \n",
    "In which state within set A is the observed effect of self-employment on per-capita income the strongest?"
   ]
  },
  {
   "cell_type": "code",
   "execution_count": 8,
   "metadata": {},
   "outputs": [],
   "source": [
    "# Filter out the data of income per cap and percentage of self-employed of every states in set A\n",
    "Censu_Wisconsin = Censu.loc[Censu[\"State\"].isin([\"Wisconsin\"])][[\"County\",\"IncomePerCap\",\"SelfEmployed\"]]\n",
    "Censu_Tennessee = Censu.loc[Censu[\"State\"].isin([\"Tennessee\"])][[\"County\",\"IncomePerCap\",\"SelfEmployed\"]]\n",
    "Censu_Minnesota = Censu.loc[Censu[\"State\"].isin([\"Minnesota\"])][[\"County\",\"IncomePerCap\",\"SelfEmployed\"]]"
   ]
  },
  {
   "cell_type": "code",
   "execution_count": 9,
   "metadata": {
    "scrolled": true
   },
   "outputs": [
    {
     "name": "stdout",
     "output_type": "stream",
     "text": [
      "The pearson corelation coefficient between percentage of self-employed and income per cap in Wisconsi is -0.329.\n",
      "The pearson corelation coefficient between percentage of self-employed and income per cap in Tennessee is -0.238.\n",
      "The pearson corelation coefficient between percentage of self-employed and income per cap in Minnesota is -0.254.\n"
     ]
    }
   ],
   "source": [
    "# Show the pearson corelation coefficient between percentage of self-employed and income per cap in every states in set A\n",
    "pear_coef_Wisconsin=pearsonr(Censu_Wisconsin.SelfEmployed,Censu_Wisconsin.IncomePerCap)[0]\n",
    "pear_coef_Tennessee=pearsonr(Censu_Tennessee.SelfEmployed,Censu_Tennessee.IncomePerCap)[0]\n",
    "pear_coef_Minnesota=pearsonr(Censu_Minnesota.SelfEmployed,Censu_Minnesota.IncomePerCap)[0]\n",
    "\n",
    "print(\"The pearson corelation coefficient between percentage of self-employed and income per cap in Wisconsi is {p:.3f}.\".\n",
    "      format(p=pear_coef_Wisconsin))\n",
    "print(\"The pearson corelation coefficient between percentage of self-employed and income per cap in Tennessee is {p:.3f}.\".\n",
    "      format(p=pear_coef_Tennessee))\n",
    "print(\"The pearson corelation coefficient between percentage of self-employed and income per cap in Minnesota is {p:.3f}.\".\n",
    "      format(p=pear_coef_Minnesota))"
   ]
  },
  {
   "cell_type": "markdown",
   "metadata": {},
   "source": [
    "⬆From above, we know that:\n",
    "1. The pearson corelation coefficient between percentage of self-employed and income per cap in Wisconsi is -0.329.\n",
    "2. Since Wisconsi's **absolute pearson corr value** is **largest**, 0.329 > 0.254 > 0.238, so we think state **Wisconsi** has the **strongest effect** of self-employment on per-capita income. "
   ]
  },
  {
   "cell_type": "markdown",
   "metadata": {},
   "source": [
    "### Task 1.D \n",
    "Set B includes New Jersey, Kansas, and Rhode Island. Repeat the analysis from steps B and C above, but now for set B. In which of the two sets A and B (if any) would you recommend incentivizing self-employment? Explain your reasoning."
   ]
  },
  {
   "cell_type": "markdown",
   "metadata": {},
   "source": [
    "```Step B```"
   ]
  },
  {
   "cell_type": "code",
   "execution_count": 10,
   "metadata": {},
   "outputs": [
    {
     "data": {
      "text/html": [
       "<div>\n",
       "<style scoped>\n",
       "    .dataframe tbody tr th:only-of-type {\n",
       "        vertical-align: middle;\n",
       "    }\n",
       "\n",
       "    .dataframe tbody tr th {\n",
       "        vertical-align: top;\n",
       "    }\n",
       "\n",
       "    .dataframe thead th {\n",
       "        text-align: right;\n",
       "    }\n",
       "</style>\n",
       "<table border=\"1\" class=\"dataframe\">\n",
       "  <thead>\n",
       "    <tr style=\"text-align: right;\">\n",
       "      <th></th>\n",
       "      <th>State</th>\n",
       "      <th>County</th>\n",
       "      <th>IncomePerCap</th>\n",
       "      <th>SelfEmployed</th>\n",
       "    </tr>\n",
       "  </thead>\n",
       "  <tbody>\n",
       "    <tr>\n",
       "      <th>888</th>\n",
       "      <td>Kansas</td>\n",
       "      <td>Allen</td>\n",
       "      <td>20671</td>\n",
       "      <td>9.1</td>\n",
       "    </tr>\n",
       "    <tr>\n",
       "      <th>889</th>\n",
       "      <td>Kansas</td>\n",
       "      <td>Anderson</td>\n",
       "      <td>21226</td>\n",
       "      <td>18.7</td>\n",
       "    </tr>\n",
       "    <tr>\n",
       "      <th>890</th>\n",
       "      <td>Kansas</td>\n",
       "      <td>Atchison</td>\n",
       "      <td>21677</td>\n",
       "      <td>6.0</td>\n",
       "    </tr>\n",
       "  </tbody>\n",
       "</table>\n",
       "</div>"
      ],
      "text/plain": [
       "      State    County  IncomePerCap  SelfEmployed\n",
       "888  Kansas     Allen         20671           9.1\n",
       "889  Kansas  Anderson         21226          18.7\n",
       "890  Kansas  Atchison         21677           6.0"
      ]
     },
     "execution_count": 10,
     "metadata": {},
     "output_type": "execute_result"
    }
   ],
   "source": [
    "# Filter out the data of income per cap and percentage of self-employed in set B\n",
    "Censu_SetB = Censu.loc[Censu[\"State\"].isin([\"New Jersey\",\"Kansas\",\"Rhode Island\"])][[\"State\",\"County\",\"IncomePerCap\",\"SelfEmployed\"]]\n",
    "Censu_SetB.head(3)"
   ]
  },
  {
   "cell_type": "code",
   "execution_count": 11,
   "metadata": {
    "scrolled": true
   },
   "outputs": [
    {
     "name": "stdout",
     "output_type": "stream",
     "text": [
      "The pearson corelation coefficient between percentage of self-employed and income per cap in Set B is -0.232.\n"
     ]
    },
    {
     "data": {
      "image/png": "[encoded data removed]",
      "text/plain": [
       "<matplotlib.figure.Figure at 0x1a0f9a9d30>"
      ]
     },
     "metadata": {},
     "output_type": "display_data"
    }
   ],
   "source": [
    "# show the pearson corelation coefficient between percentage of self-employed and income per cap in set B\n",
    "pear_coef_B=pearsonr(Censu_SetB.SelfEmployed,Censu_SetB.IncomePerCap)[0]\n",
    "print(\"The pearson corelation coefficient between percentage of self-employed and income per cap in Set B is {p:.3f}.\".format(p=pear_coef_B))\n",
    "\n",
    "# plot the relationship between percentage of self-employed and income per cap in set B\n",
    "sns.scatterplot(x=\"SelfEmployed\", y=\"IncomePerCap\",data=Censu_SetB)\n",
    "plt.title('Scatter plot of Data')\n",
    "plt.legend(('Data Points', ))\n",
    "plt.show()"
   ]
  },
  {
   "cell_type": "markdown",
   "metadata": {},
   "source": [
    "⬆From above, we can conclude that: \n",
    "1. The absolute Pearson corelation coefficient of these two variables is 0.232 (<0.7), which means that these two variables has **no strong linear correlation**.\n",
    "2. Also, by observing the scatter plot above, it is shown that there is **no clear and visiable linear relationship** between these two variables. "
   ]
  },
  {
   "cell_type": "markdown",
   "metadata": {},
   "source": [
    "```Step c```"
   ]
  },
  {
   "cell_type": "code",
   "execution_count": 12,
   "metadata": {},
   "outputs": [],
   "source": [
    "# Filter out the data of income per cap and percentage of self-employed of every states in set B\n",
    "Censu_NewJ = Censu.loc[Censu[\"State\"].isin([\"New Jersey\"])][[\"County\",\"IncomePerCap\",\"SelfEmployed\"]]\n",
    "Censu_Kansas = Censu.loc[Censu[\"State\"].isin([\"Kansas\"])][[\"County\",\"IncomePerCap\",\"SelfEmployed\"]]\n",
    "Censu_RhodeI = Censu.loc[Censu[\"State\"].isin([\"Rhode Island\"])][[\"County\",\"IncomePerCap\",\"SelfEmployed\"]]"
   ]
  },
  {
   "cell_type": "code",
   "execution_count": 13,
   "metadata": {},
   "outputs": [
    {
     "name": "stdout",
     "output_type": "stream",
     "text": [
      "The pearson corelation coefficient between percentage of self-employed and income per cap in New Jersey is 0.480.\n",
      "The pearson corelation coefficient between percentage of self-employed and income per cap in Kansas is 0.258.\n",
      "The pearson corelation coefficient between percentage of self-employed and income per cap in Rhode Island is 0.902.\n"
     ]
    }
   ],
   "source": [
    "# Show the pearson corelation coefficient between percentage of self-employed and income per cap in every states in set B\n",
    "pear_coef_NewJ=pearsonr(Censu_NewJ.SelfEmployed,Censu_NewJ.IncomePerCap)[0]\n",
    "pear_coef_Kansas=pearsonr(Censu_Kansas.SelfEmployed,Censu_Kansas.IncomePerCap)[0]\n",
    "pear_coef_RhodeI=pearsonr(Censu_RhodeI.SelfEmployed,Censu_RhodeI.IncomePerCap)[0]\n",
    "\n",
    "print(\"The pearson corelation coefficient between percentage of self-employed and income per cap in New Jersey is {p:.3f}.\".format(p=pear_coef_NewJ))\n",
    "print(\"The pearson corelation coefficient between percentage of self-employed and income per cap in Kansas is {p:.3f}.\".format(p=pear_coef_Kansas))\n",
    "print(\"The pearson corelation coefficient between percentage of self-employed and income per cap in Rhode Island is {p:.3f}.\".format(p=pear_coef_RhodeI))"
   ]
  },
  {
   "cell_type": "markdown",
   "metadata": {
    "scrolled": true
   },
   "source": [
    "- Since only the pearson corelation coefficient of Rhode Island is high (0.902), we plot its scatterplot to check if the spurious corelation exists."
   ]
  },
  {
   "cell_type": "code",
   "execution_count": 14,
   "metadata": {
    "scrolled": true
   },
   "outputs": [
    {
     "data": {
      "image/png": "[encoded data removed]",
      "text/plain": [
       "<matplotlib.figure.Figure at 0x1a0f9004e0>"
      ]
     },
     "metadata": {},
     "output_type": "display_data"
    }
   ],
   "source": [
    "# Plot the relationship between percentage of self-employed and income per cap in Rhode Island\n",
    "sns.scatterplot(x=\"SelfEmployed\", y=\"IncomePerCap\",data=Censu_RhodeI)\n",
    "plt.title('Scatter plot of Rhode Island Data')\n",
    "plt.legend(('Data Points', ))\n",
    "plt.show()"
   ]
  },
  {
   "cell_type": "markdown",
   "metadata": {},
   "source": [
    "- It seems that these two variable have a very strong linear relationship. Let's quantify this relationship by using regression coefficient."
   ]
  },
  {
   "cell_type": "code",
   "execution_count": 15,
   "metadata": {},
   "outputs": [
    {
     "name": "stdout",
     "output_type": "stream",
     "text": [
      "The slope of the regression line is 3080.94.\n",
      "The intercept of the regression line is 17246.60.\n"
     ]
    },
    {
     "data": {
      "image/png": "[encoded data removed]",
      "text/plain": [
       "<matplotlib.figure.Figure at 0x1a1899fe80>"
      ]
     },
     "metadata": {},
     "output_type": "display_data"
    }
   ],
   "source": [
    "# Find out the regression coefficient of these two variables\n",
    "slope, intercept, r_value, p_value, std_err =linregress(Censu_RhodeI.SelfEmployed,Censu_RhodeI.IncomePerCap)\n",
    "print(\"The slope of the regression line is {s:.2f}.\".format(s=slope))\n",
    "print(\"The intercept of the regression line is {i:.2f}.\".format(i=intercept))\n",
    "\n",
    "# Plot the regression line\n",
    "x = Censu_RhodeI.SelfEmployed\n",
    "y = Censu_RhodeI.IncomePerCap\n",
    "sns.regplot('SelfEmployed', 'IncomePerCap', Censu_RhodeI)\n",
    "plt.title('Linear Regression of Rhode Island')\n",
    "plt.legend(('Linear Regression Line', 'Data Points'))\n",
    "plt.show()"
   ]
  },
  {
   "cell_type": "markdown",
   "metadata": {},
   "source": [
    "We think state **Rhode Island** has the **strongest effect** of self-employment on per-capita income.  \n",
    "\n",
    "```Explanation```:\n",
    "1. The pearson corelation coefficient between percentage of self-employed and income per cap in Rhode Island is very high, 0.9 and Wisconsi's **absolute pearson corr value** is **largest**, 0.90 > 0.48 > 0.26.\n",
    "2. After doing the linear regression, It is **obvious** that these two variables have a **strong linear relationship**."
   ]
  },
  {
   "cell_type": "markdown",
   "metadata": {},
   "source": [
    "We recommend **Set B** to incentivize self-employment.  \n",
    "\n",
    "```Explanation```:\n",
    "\n",
    "1. The pearson corelation coefficient between percentage of self-employed and income per cap in **Set B (0.90, 0.48, 0.26)** is **higher** that those in **Set A (0.33, 0.25, 0.24)**. \n",
    "2. Higher pearson corelation coefficient  value represents incentivizing self-employment can have a bigger possibility to get a higher per-capita income."
   ]
  },
  {
   "cell_type": "markdown",
   "metadata": {
    "collapsed": true
   },
   "source": [
    "## Task 2: All you need is love… And a dog!\n",
    "\n",
    "Here we are going to build a classifier to predict whether an animal from an animal shelter will be adopted or not (aac_intakes_outcomes.csv, available at: https://www.kaggle.com/aaronschlegel/austin-animal-center-shelter-intakes-and-outcomes/version/1#aac_intakes_outcomes.csv). You will be working with the following features:\n",
    "\n",
    "1. *animal_type:* Type of animal. May be one of 'cat', 'dog', 'bird', etc.\n",
    "2. *intake_year:* Year of intake\n",
    "3. *intake_condition:* The intake condition of the animal. Can be one of 'normal', 'injured', 'sick', etc.\n",
    "4. *intake_number:* The intake number denoting the number of occurrences the animal has been brought into the shelter. Values higher than 1 indicate the animal has been taken into the shelter on more than one occasion.\n",
    "5. *intake_type:* The type of intake, for example, 'stray', 'owner surrender', etc.\n",
    "6. *sex_upon_intake:* The gender of the animal and if it has been spayed or neutered at the time of intake\n",
    "7. *age_upon\\_intake_(years):* The age of the animal upon intake represented in years\n",
    "8. *time_in_shelter_days:* Numeric value denoting the number of days the animal remained at the shelter from intake to outcome.\n",
    "9. *sex_upon_outcome:* The gender of the animal and if it has been spayed or neutered at time of outcome\n",
    "10. *age_upon\\_outcome_(years):* The age of the animal upon outcome represented in years\n",
    "11. *outcome_type:* The outcome type. Can be one of ‘adopted’, ‘transferred’, etc.\n",
    "\n",
    "**A)** Load the dataset and convert categorical features to a suitable numerical representation (use dummy-variable encoding). Split the data into a training set (80%) and a test set (20%). Pair each feature vector with the corresponding label, i.e., whether the outcome_type is adoption or not. Standardize the values of each feature in the data to have mean 0 and variance 1. The use of external libraries is not permitted in part A, except for numpy and pandas.\n",
    "\n",
    "**B)** Train a logistic regression classifier on your training set.Logistic regression returns probabilities as predictions, so in order to arrive at a binary prediction, you need to put a threshold on the predicted probabilities.For the decision threshold of 0.5, present the performance of your classifier on the test set by displaying the confusion matrix. Based on the confusion matrix, manually calculate accuracy, precision, recall, and F1-score with respect to the positive and the negative class. Vary the value of the threshold in the range from 0 to 1 and visualize the value of accuracy, precision, recall, and F1-score (with respect to both classes) as a function of the threshold. The shelter has a limited capacity and has no other option but to put to sleep animals with a low probability of adoption. What metric (precision, recall, accuracy, or F1-score) and with respect to what class is the most relevant when choosing the threshold in this scenario, and why? Explain your reasoning.\n",
    "\n",
    "**C)** Reduce the number of features by selecting the subset of the k best features. Use greedy backward selection to iteratively remove features. Evaluate performance and visualize the result using 5-fold cross-validation on the training set as a function of k, where k = 1, 5, 10, 15, 20, 25, 30. Choose the optimal k and justify your choice. Interpret the top-k features and their impact on the probability of adoption.\n",
    "\n",
    "**D)** Train a random forest. Use 5-fold cross-validation on the training set to fine-tune the parameters of the classifier using a grid search on the number of estimators \"n_estimators\" and the max depth of the trees \"max_depth\". For the chosen parameters, estimate the performance of your classifier on the test set by presenting the confusion matrix, accuracy, precision, recall, and F1-score with respect to both classes and compare the performance with the performance of the logistic regression. Interpret the results.\n",
    "\n",
    "You are allowed to use the scikit-learn library to implement your classifiers."
   ]
  },
  {
   "cell_type": "markdown",
   "metadata": {},
   "source": [
    "### Task 2.A: Load the dataset and convert categorical features to a suitable numerical representation\n",
    "- Split the data into a training set (80%) and a test set (20%). Pair each feature vector with the corresponding label, i.e., whether the outcome_type is adoption or not. \n",
    "- Standardize the values of each feature in the data to have mean 0 and variance 1. "
   ]
  },
  {
   "cell_type": "code",
   "execution_count": 16,
   "metadata": {},
   "outputs": [
    {
     "data": {
      "text/html": [
       "<div>\n",
       "<style scoped>\n",
       "    .dataframe tbody tr th:only-of-type {\n",
       "        vertical-align: middle;\n",
       "    }\n",
       "\n",
       "    .dataframe tbody tr th {\n",
       "        vertical-align: top;\n",
       "    }\n",
       "\n",
       "    .dataframe thead th {\n",
       "        text-align: right;\n",
       "    }\n",
       "</style>\n",
       "<table border=\"1\" class=\"dataframe\">\n",
       "  <thead>\n",
       "    <tr style=\"text-align: right;\">\n",
       "      <th></th>\n",
       "      <th>outcome_type</th>\n",
       "      <th>sex_upon_outcome</th>\n",
       "      <th>age_upon_outcome_(years)</th>\n",
       "      <th>animal_type</th>\n",
       "      <th>intake_condition</th>\n",
       "      <th>intake_type</th>\n",
       "      <th>sex_upon_intake</th>\n",
       "      <th>age_upon_intake_(years)</th>\n",
       "      <th>intake_year</th>\n",
       "      <th>intake_number</th>\n",
       "      <th>time_in_shelter_days</th>\n",
       "    </tr>\n",
       "  </thead>\n",
       "  <tbody>\n",
       "    <tr>\n",
       "      <th>0</th>\n",
       "      <td>Return to Owner</td>\n",
       "      <td>Neutered Male</td>\n",
       "      <td>10.0</td>\n",
       "      <td>Dog</td>\n",
       "      <td>Normal</td>\n",
       "      <td>Stray</td>\n",
       "      <td>Neutered Male</td>\n",
       "      <td>10.0</td>\n",
       "      <td>2017</td>\n",
       "      <td>1.0</td>\n",
       "      <td>0.588194</td>\n",
       "    </tr>\n",
       "    <tr>\n",
       "      <th>1</th>\n",
       "      <td>Return to Owner</td>\n",
       "      <td>Neutered Male</td>\n",
       "      <td>7.0</td>\n",
       "      <td>Dog</td>\n",
       "      <td>Normal</td>\n",
       "      <td>Public Assist</td>\n",
       "      <td>Neutered Male</td>\n",
       "      <td>7.0</td>\n",
       "      <td>2014</td>\n",
       "      <td>2.0</td>\n",
       "      <td>1.259722</td>\n",
       "    </tr>\n",
       "    <tr>\n",
       "      <th>2</th>\n",
       "      <td>Return to Owner</td>\n",
       "      <td>Neutered Male</td>\n",
       "      <td>6.0</td>\n",
       "      <td>Dog</td>\n",
       "      <td>Normal</td>\n",
       "      <td>Public Assist</td>\n",
       "      <td>Neutered Male</td>\n",
       "      <td>6.0</td>\n",
       "      <td>2014</td>\n",
       "      <td>3.0</td>\n",
       "      <td>1.113889</td>\n",
       "    </tr>\n",
       "    <tr>\n",
       "      <th>3</th>\n",
       "      <td>Transfer</td>\n",
       "      <td>Neutered Male</td>\n",
       "      <td>10.0</td>\n",
       "      <td>Dog</td>\n",
       "      <td>Normal</td>\n",
       "      <td>Owner Surrender</td>\n",
       "      <td>Neutered Male</td>\n",
       "      <td>10.0</td>\n",
       "      <td>2014</td>\n",
       "      <td>1.0</td>\n",
       "      <td>4.970139</td>\n",
       "    </tr>\n",
       "    <tr>\n",
       "      <th>4</th>\n",
       "      <td>Return to Owner</td>\n",
       "      <td>Neutered Male</td>\n",
       "      <td>16.0</td>\n",
       "      <td>Dog</td>\n",
       "      <td>Injured</td>\n",
       "      <td>Public Assist</td>\n",
       "      <td>Neutered Male</td>\n",
       "      <td>16.0</td>\n",
       "      <td>2013</td>\n",
       "      <td>1.0</td>\n",
       "      <td>0.119444</td>\n",
       "    </tr>\n",
       "  </tbody>\n",
       "</table>\n",
       "</div>"
      ],
      "text/plain": [
       "      outcome_type sex_upon_outcome  age_upon_outcome_(years) animal_type  \\\n",
       "0  Return to Owner    Neutered Male                      10.0         Dog   \n",
       "1  Return to Owner    Neutered Male                       7.0         Dog   \n",
       "2  Return to Owner    Neutered Male                       6.0         Dog   \n",
       "3         Transfer    Neutered Male                      10.0         Dog   \n",
       "4  Return to Owner    Neutered Male                      16.0         Dog   \n",
       "\n",
       "  intake_condition      intake_type sex_upon_intake  age_upon_intake_(years)  \\\n",
       "0           Normal            Stray   Neutered Male                     10.0   \n",
       "1           Normal    Public Assist   Neutered Male                      7.0   \n",
       "2           Normal    Public Assist   Neutered Male                      6.0   \n",
       "3           Normal  Owner Surrender   Neutered Male                     10.0   \n",
       "4          Injured    Public Assist   Neutered Male                     16.0   \n",
       "\n",
       "   intake_year  intake_number  time_in_shelter_days  \n",
       "0         2017            1.0              0.588194  \n",
       "1         2014            2.0              1.259722  \n",
       "2         2014            3.0              1.113889  \n",
       "3         2014            1.0              4.970139  \n",
       "4         2013            1.0              0.119444  "
      ]
     },
     "execution_count": 16,
     "metadata": {},
     "output_type": "execute_result"
    }
   ],
   "source": [
    "# Read data of requeired columns from csv file to pandas dataframe \n",
    "aac_intake_outcome = pd.read_csv(data_folder + \"aac_intakes_outcomes.csv\",usecols=['animal_type','intake_year','intake_condition'\\\n",
    "                                                                                   ,'intake_number','intake_type','sex_upon_intake'\\\n",
    "                                                                                   ,'age_upon_intake_(years)','time_in_shelter_days'\\\n",
    "                                                                                   ,'sex_upon_outcome','age_upon_outcome_(years)'\\\n",
    "                                                                                   ,'outcome_type'])\n",
    "aac_intake_outcome.head()"
   ]
  },
  {
   "cell_type": "markdown",
   "metadata": {},
   "source": [
    "⬆Notice that:\n",
    "1. **sex_upon_intake**: The gender of the animal and if it has been spayed or neutered at the time of intak.\n",
    "2. **sex_upon_outcome**: The gender of the animal and if it has been spayed or neutered at time of outcome.\n",
    "3. Each of these two data contains not only one information, so we sperate it into two columns for each, which are the information about whether the animal has been spayed or neutered (with column's name `sex_upon_intake(outcome)`) and the animal's gender (with column's name `sex_intake(outcome)`)."
   ]
  },
  {
   "cell_type": "markdown",
   "metadata": {},
   "source": [
    "- We also process the gender data into one column (named `sex`) since an animal's gender should be same when intake and outcome."
   ]
  },
  {
   "cell_type": "code",
   "execution_count": 17,
   "metadata": {},
   "outputs": [
    {
     "data": {
      "text/html": [
       "<div>\n",
       "<style scoped>\n",
       "    .dataframe tbody tr th:only-of-type {\n",
       "        vertical-align: middle;\n",
       "    }\n",
       "\n",
       "    .dataframe tbody tr th {\n",
       "        vertical-align: top;\n",
       "    }\n",
       "\n",
       "    .dataframe thead th {\n",
       "        text-align: right;\n",
       "    }\n",
       "</style>\n",
       "<table border=\"1\" class=\"dataframe\">\n",
       "  <thead>\n",
       "    <tr style=\"text-align: right;\">\n",
       "      <th></th>\n",
       "      <th>outcome_type</th>\n",
       "      <th>sex_upon_outcome</th>\n",
       "      <th>age_upon_outcome_(years)</th>\n",
       "      <th>animal_type</th>\n",
       "      <th>intake_condition</th>\n",
       "      <th>intake_type</th>\n",
       "      <th>sex_upon_intake</th>\n",
       "      <th>age_upon_intake_(years)</th>\n",
       "      <th>intake_year</th>\n",
       "      <th>intake_number</th>\n",
       "      <th>time_in_shelter_days</th>\n",
       "      <th>sex_intake</th>\n",
       "      <th>sex_outcome</th>\n",
       "    </tr>\n",
       "  </thead>\n",
       "  <tbody>\n",
       "    <tr>\n",
       "      <th>0</th>\n",
       "      <td>Return to Owner</td>\n",
       "      <td>Neutered</td>\n",
       "      <td>10.0</td>\n",
       "      <td>Dog</td>\n",
       "      <td>Normal</td>\n",
       "      <td>Stray</td>\n",
       "      <td>Neutered</td>\n",
       "      <td>10.0</td>\n",
       "      <td>2017</td>\n",
       "      <td>1.0</td>\n",
       "      <td>0.588194</td>\n",
       "      <td>Male</td>\n",
       "      <td>Male</td>\n",
       "    </tr>\n",
       "    <tr>\n",
       "      <th>1</th>\n",
       "      <td>Return to Owner</td>\n",
       "      <td>Neutered</td>\n",
       "      <td>7.0</td>\n",
       "      <td>Dog</td>\n",
       "      <td>Normal</td>\n",
       "      <td>Public Assist</td>\n",
       "      <td>Neutered</td>\n",
       "      <td>7.0</td>\n",
       "      <td>2014</td>\n",
       "      <td>2.0</td>\n",
       "      <td>1.259722</td>\n",
       "      <td>Male</td>\n",
       "      <td>Male</td>\n",
       "    </tr>\n",
       "    <tr>\n",
       "      <th>2</th>\n",
       "      <td>Return to Owner</td>\n",
       "      <td>Neutered</td>\n",
       "      <td>6.0</td>\n",
       "      <td>Dog</td>\n",
       "      <td>Normal</td>\n",
       "      <td>Public Assist</td>\n",
       "      <td>Neutered</td>\n",
       "      <td>6.0</td>\n",
       "      <td>2014</td>\n",
       "      <td>3.0</td>\n",
       "      <td>1.113889</td>\n",
       "      <td>Male</td>\n",
       "      <td>Male</td>\n",
       "    </tr>\n",
       "    <tr>\n",
       "      <th>3</th>\n",
       "      <td>Transfer</td>\n",
       "      <td>Neutered</td>\n",
       "      <td>10.0</td>\n",
       "      <td>Dog</td>\n",
       "      <td>Normal</td>\n",
       "      <td>Owner Surrender</td>\n",
       "      <td>Neutered</td>\n",
       "      <td>10.0</td>\n",
       "      <td>2014</td>\n",
       "      <td>1.0</td>\n",
       "      <td>4.970139</td>\n",
       "      <td>Male</td>\n",
       "      <td>Male</td>\n",
       "    </tr>\n",
       "    <tr>\n",
       "      <th>4</th>\n",
       "      <td>Return to Owner</td>\n",
       "      <td>Neutered</td>\n",
       "      <td>16.0</td>\n",
       "      <td>Dog</td>\n",
       "      <td>Injured</td>\n",
       "      <td>Public Assist</td>\n",
       "      <td>Neutered</td>\n",
       "      <td>16.0</td>\n",
       "      <td>2013</td>\n",
       "      <td>1.0</td>\n",
       "      <td>0.119444</td>\n",
       "      <td>Male</td>\n",
       "      <td>Male</td>\n",
       "    </tr>\n",
       "  </tbody>\n",
       "</table>\n",
       "</div>"
      ],
      "text/plain": [
       "      outcome_type sex_upon_outcome  age_upon_outcome_(years) animal_type  \\\n",
       "0  Return to Owner         Neutered                      10.0         Dog   \n",
       "1  Return to Owner         Neutered                       7.0         Dog   \n",
       "2  Return to Owner         Neutered                       6.0         Dog   \n",
       "3         Transfer         Neutered                      10.0         Dog   \n",
       "4  Return to Owner         Neutered                      16.0         Dog   \n",
       "\n",
       "  intake_condition      intake_type sex_upon_intake  age_upon_intake_(years)  \\\n",
       "0           Normal            Stray        Neutered                     10.0   \n",
       "1           Normal    Public Assist        Neutered                      7.0   \n",
       "2           Normal    Public Assist        Neutered                      6.0   \n",
       "3           Normal  Owner Surrender        Neutered                     10.0   \n",
       "4          Injured    Public Assist        Neutered                     16.0   \n",
       "\n",
       "   intake_year  intake_number  time_in_shelter_days sex_intake sex_outcome  \n",
       "0         2017            1.0              0.588194       Male        Male  \n",
       "1         2014            2.0              1.259722       Male        Male  \n",
       "2         2014            3.0              1.113889       Male        Male  \n",
       "3         2014            1.0              4.970139       Male        Male  \n",
       "4         2013            1.0              0.119444       Male        Male  "
      ]
     },
     "execution_count": 17,
     "metadata": {},
     "output_type": "execute_result"
    }
   ],
   "source": [
    "# Split the each sex_upon_intake data into two columns \n",
    "sex_intake= aac_intake_outcome['sex_upon_intake'].str.split(' ',n = 1, expand = True)\n",
    "# Set unknown for original unknown data\n",
    "mask = sex_intake.applymap(lambda x: x is None)\n",
    "sex_intake.loc[mask[1], 1] = 'Unknown'\n",
    "# Set values for corresponding columns\n",
    "aac_intake_outcome['sex_intake']=sex_intake[1]\n",
    "aac_intake_outcome['sex_upon_intake']=sex_intake[0]\n",
    "\n",
    "# Split the each sex_upon_outcome data into two columns \n",
    "sex_outcome= aac_intake_outcome['sex_upon_outcome'].str.split(' ',n = 1, expand = True)\n",
    "# Set unknown for original unknown data\n",
    "mask = sex_outcome.applymap(lambda x: x is None)\n",
    "sex_outcome.loc[mask[1], 1] = 'Unknown'\n",
    "# Set values for corresponding columns\n",
    "aac_intake_outcome['sex_outcome']=sex_outcome[1]\n",
    "aac_intake_outcome['sex_upon_outcome']=sex_outcome[0]\n",
    "\n",
    "aac_intake_outcome.head()"
   ]
  },
  {
   "cell_type": "markdown",
   "metadata": {},
   "source": [
    "- Generally speaking, the gender of intake and outcome is supposed to be the same, but we check it just in case."
   ]
  },
  {
   "cell_type": "code",
   "execution_count": 18,
   "metadata": {},
   "outputs": [
    {
     "data": {
      "text/html": [
       "<div>\n",
       "<style scoped>\n",
       "    .dataframe tbody tr th:only-of-type {\n",
       "        vertical-align: middle;\n",
       "    }\n",
       "\n",
       "    .dataframe tbody tr th {\n",
       "        vertical-align: top;\n",
       "    }\n",
       "\n",
       "    .dataframe thead th {\n",
       "        text-align: right;\n",
       "    }\n",
       "</style>\n",
       "<table border=\"1\" class=\"dataframe\">\n",
       "  <thead>\n",
       "    <tr style=\"text-align: right;\">\n",
       "      <th></th>\n",
       "      <th>outcome_type</th>\n",
       "      <th>sex_upon_outcome</th>\n",
       "      <th>age_upon_outcome_(years)</th>\n",
       "      <th>animal_type</th>\n",
       "      <th>intake_condition</th>\n",
       "      <th>intake_type</th>\n",
       "      <th>sex_upon_intake</th>\n",
       "      <th>age_upon_intake_(years)</th>\n",
       "      <th>intake_year</th>\n",
       "      <th>intake_number</th>\n",
       "      <th>time_in_shelter_days</th>\n",
       "      <th>sex_intake</th>\n",
       "      <th>sex_outcome</th>\n",
       "    </tr>\n",
       "  </thead>\n",
       "  <tbody>\n",
       "    <tr>\n",
       "      <th>6523</th>\n",
       "      <td>Return to Owner</td>\n",
       "      <td>NaN</td>\n",
       "      <td>7.0</td>\n",
       "      <td>Dog</td>\n",
       "      <td>Normal</td>\n",
       "      <td>Owner Surrender</td>\n",
       "      <td>NaN</td>\n",
       "      <td>7.0</td>\n",
       "      <td>2013</td>\n",
       "      <td>1.0</td>\n",
       "      <td>10.122222</td>\n",
       "      <td>NaN</td>\n",
       "      <td>NaN</td>\n",
       "    </tr>\n",
       "  </tbody>\n",
       "</table>\n",
       "</div>"
      ],
      "text/plain": [
       "         outcome_type sex_upon_outcome  age_upon_outcome_(years) animal_type  \\\n",
       "6523  Return to Owner              NaN                       7.0         Dog   \n",
       "\n",
       "     intake_condition      intake_type sex_upon_intake  \\\n",
       "6523           Normal  Owner Surrender             NaN   \n",
       "\n",
       "      age_upon_intake_(years)  intake_year  intake_number  \\\n",
       "6523                      7.0         2013            1.0   \n",
       "\n",
       "      time_in_shelter_days sex_intake sex_outcome  \n",
       "6523             10.122222        NaN         NaN  "
      ]
     },
     "execution_count": 18,
     "metadata": {},
     "output_type": "execute_result"
    }
   ],
   "source": [
    "# Check if gender is consistent\n",
    "aac_intake_outcome[aac_intake_outcome['sex_intake'] != aac_intake_outcome['sex_outcome']]"
   ]
  },
  {
   "cell_type": "markdown",
   "metadata": {},
   "source": [
    "⬆ As seen above, we know that:\n",
    "1. The inconsistent data acutally is `nan` values, it doesn't mean their gender is not inconsistent.\n",
    "2. We do not take any measure to deal with data with `nan` as it will be automatically processed in dummy data.(e.g. turn into (Neutered=0,sex=0))."
   ]
  },
  {
   "cell_type": "markdown",
   "metadata": {},
   "source": [
    "- Now we confirm that animals' gender are consistent when intake and outcome. Then we can merge sex_intake and sex_outcome into one columns (sex)."
   ]
  },
  {
   "cell_type": "code",
   "execution_count": 19,
   "metadata": {},
   "outputs": [
    {
     "data": {
      "text/html": [
       "<div>\n",
       "<style scoped>\n",
       "    .dataframe tbody tr th:only-of-type {\n",
       "        vertical-align: middle;\n",
       "    }\n",
       "\n",
       "    .dataframe tbody tr th {\n",
       "        vertical-align: top;\n",
       "    }\n",
       "\n",
       "    .dataframe thead th {\n",
       "        text-align: right;\n",
       "    }\n",
       "</style>\n",
       "<table border=\"1\" class=\"dataframe\">\n",
       "  <thead>\n",
       "    <tr style=\"text-align: right;\">\n",
       "      <th></th>\n",
       "      <th>sex</th>\n",
       "    </tr>\n",
       "  </thead>\n",
       "  <tbody>\n",
       "    <tr>\n",
       "      <th>0</th>\n",
       "      <td>Male</td>\n",
       "    </tr>\n",
       "    <tr>\n",
       "      <th>1</th>\n",
       "      <td>Male</td>\n",
       "    </tr>\n",
       "    <tr>\n",
       "      <th>2</th>\n",
       "      <td>Male</td>\n",
       "    </tr>\n",
       "    <tr>\n",
       "      <th>3</th>\n",
       "      <td>Male</td>\n",
       "    </tr>\n",
       "    <tr>\n",
       "      <th>4</th>\n",
       "      <td>Male</td>\n",
       "    </tr>\n",
       "  </tbody>\n",
       "</table>\n",
       "</div>"
      ],
      "text/plain": [
       "    sex\n",
       "0  Male\n",
       "1  Male\n",
       "2  Male\n",
       "3  Male\n",
       "4  Male"
      ]
     },
     "execution_count": 19,
     "metadata": {},
     "output_type": "execute_result"
    }
   ],
   "source": [
    "# Replace sex_outcome and sex_intake with sex \n",
    "aac_intake_outcome[\"sex\"] = aac_intake_outcome['sex_outcome']\n",
    "aac_intake_outcome.drop(['sex_outcome', 'sex_intake'], axis=1,inplace=True)\n",
    "aac_intake_outcome[['sex']].head()"
   ]
  },
  {
   "cell_type": "markdown",
   "metadata": {},
   "source": [
    "Now we get dummy data:\n",
    "- We rename some columns on the dummy data for the convenience of operating in the upcoming steps.<br/>\n",
    "- We drop the columns related to original `outcome_type` except `adoption` as it is actually what we want to predict."
   ]
  },
  {
   "cell_type": "code",
   "execution_count": 20,
   "metadata": {},
   "outputs": [
    {
     "data": {
      "text/html": [
       "<div>\n",
       "<style scoped>\n",
       "    .dataframe tbody tr th:only-of-type {\n",
       "        vertical-align: middle;\n",
       "    }\n",
       "\n",
       "    .dataframe tbody tr th {\n",
       "        vertical-align: top;\n",
       "    }\n",
       "\n",
       "    .dataframe thead th {\n",
       "        text-align: right;\n",
       "    }\n",
       "</style>\n",
       "<table border=\"1\" class=\"dataframe\">\n",
       "  <thead>\n",
       "    <tr style=\"text-align: right;\">\n",
       "      <th></th>\n",
       "      <th>intake_year</th>\n",
       "      <th>intake_number</th>\n",
       "      <th>age_upon_intake_(years)</th>\n",
       "      <th>time_in_shelter_days</th>\n",
       "      <th>age_upon_outcome_(years)</th>\n",
       "      <th>animal_type_Bird</th>\n",
       "      <th>animal_type_Cat</th>\n",
       "      <th>animal_type_Dog</th>\n",
       "      <th>animal_type_Other</th>\n",
       "      <th>intake_condition_Aged</th>\n",
       "      <th>...</th>\n",
       "      <th>outcome_type_Disposal</th>\n",
       "      <th>outcome_type_Euthanasia</th>\n",
       "      <th>outcome_type_Missing</th>\n",
       "      <th>outcome_type_Relocate</th>\n",
       "      <th>outcome_type_Return to Owner</th>\n",
       "      <th>outcome_type_Rto-Adopt</th>\n",
       "      <th>outcome_type_Transfer</th>\n",
       "      <th>sex_Female</th>\n",
       "      <th>sex_Male</th>\n",
       "      <th>sex_Unknown</th>\n",
       "    </tr>\n",
       "  </thead>\n",
       "  <tbody>\n",
       "    <tr>\n",
       "      <th>0</th>\n",
       "      <td>2017</td>\n",
       "      <td>1.0</td>\n",
       "      <td>10.0</td>\n",
       "      <td>0.588194</td>\n",
       "      <td>10.0</td>\n",
       "      <td>0</td>\n",
       "      <td>0</td>\n",
       "      <td>1</td>\n",
       "      <td>0</td>\n",
       "      <td>0</td>\n",
       "      <td>...</td>\n",
       "      <td>0</td>\n",
       "      <td>0</td>\n",
       "      <td>0</td>\n",
       "      <td>0</td>\n",
       "      <td>1</td>\n",
       "      <td>0</td>\n",
       "      <td>0</td>\n",
       "      <td>0</td>\n",
       "      <td>1</td>\n",
       "      <td>0</td>\n",
       "    </tr>\n",
       "    <tr>\n",
       "      <th>1</th>\n",
       "      <td>2014</td>\n",
       "      <td>2.0</td>\n",
       "      <td>7.0</td>\n",
       "      <td>1.259722</td>\n",
       "      <td>7.0</td>\n",
       "      <td>0</td>\n",
       "      <td>0</td>\n",
       "      <td>1</td>\n",
       "      <td>0</td>\n",
       "      <td>0</td>\n",
       "      <td>...</td>\n",
       "      <td>0</td>\n",
       "      <td>0</td>\n",
       "      <td>0</td>\n",
       "      <td>0</td>\n",
       "      <td>1</td>\n",
       "      <td>0</td>\n",
       "      <td>0</td>\n",
       "      <td>0</td>\n",
       "      <td>1</td>\n",
       "      <td>0</td>\n",
       "    </tr>\n",
       "    <tr>\n",
       "      <th>2</th>\n",
       "      <td>2014</td>\n",
       "      <td>3.0</td>\n",
       "      <td>6.0</td>\n",
       "      <td>1.113889</td>\n",
       "      <td>6.0</td>\n",
       "      <td>0</td>\n",
       "      <td>0</td>\n",
       "      <td>1</td>\n",
       "      <td>0</td>\n",
       "      <td>0</td>\n",
       "      <td>...</td>\n",
       "      <td>0</td>\n",
       "      <td>0</td>\n",
       "      <td>0</td>\n",
       "      <td>0</td>\n",
       "      <td>1</td>\n",
       "      <td>0</td>\n",
       "      <td>0</td>\n",
       "      <td>0</td>\n",
       "      <td>1</td>\n",
       "      <td>0</td>\n",
       "    </tr>\n",
       "    <tr>\n",
       "      <th>3</th>\n",
       "      <td>2014</td>\n",
       "      <td>1.0</td>\n",
       "      <td>10.0</td>\n",
       "      <td>4.970139</td>\n",
       "      <td>10.0</td>\n",
       "      <td>0</td>\n",
       "      <td>0</td>\n",
       "      <td>1</td>\n",
       "      <td>0</td>\n",
       "      <td>0</td>\n",
       "      <td>...</td>\n",
       "      <td>0</td>\n",
       "      <td>0</td>\n",
       "      <td>0</td>\n",
       "      <td>0</td>\n",
       "      <td>0</td>\n",
       "      <td>0</td>\n",
       "      <td>1</td>\n",
       "      <td>0</td>\n",
       "      <td>1</td>\n",
       "      <td>0</td>\n",
       "    </tr>\n",
       "    <tr>\n",
       "      <th>4</th>\n",
       "      <td>2013</td>\n",
       "      <td>1.0</td>\n",
       "      <td>16.0</td>\n",
       "      <td>0.119444</td>\n",
       "      <td>16.0</td>\n",
       "      <td>0</td>\n",
       "      <td>0</td>\n",
       "      <td>1</td>\n",
       "      <td>0</td>\n",
       "      <td>0</td>\n",
       "      <td>...</td>\n",
       "      <td>0</td>\n",
       "      <td>0</td>\n",
       "      <td>0</td>\n",
       "      <td>0</td>\n",
       "      <td>1</td>\n",
       "      <td>0</td>\n",
       "      <td>0</td>\n",
       "      <td>0</td>\n",
       "      <td>1</td>\n",
       "      <td>0</td>\n",
       "    </tr>\n",
       "  </tbody>\n",
       "</table>\n",
       "<p>5 rows × 42 columns</p>\n",
       "</div>"
      ],
      "text/plain": [
       "   intake_year  intake_number  age_upon_intake_(years)  time_in_shelter_days  \\\n",
       "0         2017            1.0                     10.0              0.588194   \n",
       "1         2014            2.0                      7.0              1.259722   \n",
       "2         2014            3.0                      6.0              1.113889   \n",
       "3         2014            1.0                     10.0              4.970139   \n",
       "4         2013            1.0                     16.0              0.119444   \n",
       "\n",
       "   age_upon_outcome_(years)  animal_type_Bird  animal_type_Cat  \\\n",
       "0                      10.0                 0                0   \n",
       "1                       7.0                 0                0   \n",
       "2                       6.0                 0                0   \n",
       "3                      10.0                 0                0   \n",
       "4                      16.0                 0                0   \n",
       "\n",
       "   animal_type_Dog  animal_type_Other  intake_condition_Aged     ...       \\\n",
       "0                1                  0                      0     ...        \n",
       "1                1                  0                      0     ...        \n",
       "2                1                  0                      0     ...        \n",
       "3                1                  0                      0     ...        \n",
       "4                1                  0                      0     ...        \n",
       "\n",
       "   outcome_type_Disposal  outcome_type_Euthanasia  outcome_type_Missing  \\\n",
       "0                      0                        0                     0   \n",
       "1                      0                        0                     0   \n",
       "2                      0                        0                     0   \n",
       "3                      0                        0                     0   \n",
       "4                      0                        0                     0   \n",
       "\n",
       "   outcome_type_Relocate  outcome_type_Return to Owner  \\\n",
       "0                      0                             1   \n",
       "1                      0                             1   \n",
       "2                      0                             1   \n",
       "3                      0                             0   \n",
       "4                      0                             1   \n",
       "\n",
       "   outcome_type_Rto-Adopt  outcome_type_Transfer  sex_Female  sex_Male  \\\n",
       "0                       0                      0           0         1   \n",
       "1                       0                      0           0         1   \n",
       "2                       0                      0           0         1   \n",
       "3                       0                      1           0         1   \n",
       "4                       0                      0           0         1   \n",
       "\n",
       "   sex_Unknown  \n",
       "0            0  \n",
       "1            0  \n",
       "2            0  \n",
       "3            0  \n",
       "4            0  \n",
       "\n",
       "[5 rows x 42 columns]"
      ]
     },
     "execution_count": 20,
     "metadata": {},
     "output_type": "execute_result"
    }
   ],
   "source": [
    "# Get features for dummy\n",
    "aac_feature = ['animal_type','intake_year','intake_condition','intake_number','intake_type','sex_upon_intake','age_upon_intake_(years)'\n",
    "               ,'time_in_shelter_days','sex_upon_outcome','age_upon_outcome_(years)','outcome_type','sex']\n",
    "# Get dummies\n",
    "aac_dummies = pd.get_dummies(aac_intake_outcome[aac_feature])\n",
    "aac_dummies.head()"
   ]
  },
  {
   "cell_type": "code",
   "execution_count": 21,
   "metadata": {},
   "outputs": [
    {
     "name": "stdout",
     "output_type": "stream",
     "text": [
      "The columns name of aac_dummies dataframes: \n"
     ]
    },
    {
     "data": {
      "text/plain": [
       "Index(['intake_year', 'intake_number', 'age_upon_intake_(years)',\n",
       "       'time_in_shelter_days', 'age_upon_outcome_(years)', 'bird', 'cat',\n",
       "       'dog', 'other', 'intake_aged', 'intake_feral', 'intake_injured',\n",
       "       'intake_normal', 'intake_nursing', 'intake_other', 'intake_pregnant',\n",
       "       'intake_sick', 'euthanasia_request_intake', 'owner_surrender_intake',\n",
       "       'public_assist_intake', 'stray_intake', 'wildlife_intake',\n",
       "       'intact_upon_intake', 'neutered_upon_intake', 'spayed_upon_intake',\n",
       "       'unknown_upon_intake', 'intact_upon_outcome', 'neutered_upon_outcome',\n",
       "       'spayed_upon_outcome', 'unknown_upon_outcome', 'adoption_outcome',\n",
       "       'died_outcome', 'disposal_outcome', 'euthanasia_outcome',\n",
       "       'missing_outcome', 'relocate_outcome', 'rto_owner_outcome',\n",
       "       'rto_adopt_outcome', 'transfer_outcome', 'female', 'male',\n",
       "       'sex_unknown'],\n",
       "      dtype='object')"
      ]
     },
     "execution_count": 21,
     "metadata": {},
     "output_type": "execute_result"
    }
   ],
   "source": [
    "# --------- Rename the columns(just for convenience to do the next tasks) --------- #\n",
    "# animal_type_xxx -> xxx\n",
    "# intake_condition_xxx -> intake_xxx\n",
    "# intake_type_xxx -> xxx_intake\n",
    "# sex_upon_intake_xxx -> xxx_upon_intake\n",
    "# sex_upon_outcome_xxx -> xxx_upon_outcome\n",
    "# outcome_type_xxx -> xxx_outcome\n",
    "# sex_xxx -> xxx (sex_unknown isn't changed)\n",
    "aac_dummies.rename(columns={'animal_type_Bird':'bird','animal_type_Cat':'cat','animal_type_Dog':'dog','animal_type_Other':'other'\n",
    "                            , 'intake_condition_Aged':'intake_aged','intake_condition_Feral':'intake_feral'\n",
    "                            , 'intake_condition_Injured':'intake_injured','intake_condition_Normal':'intake_normal'\n",
    "                            , 'intake_condition_Nursing':'intake_nursing','intake_condition_Other':'intake_other'\n",
    "                            , 'intake_condition_Pregnant':'intake_pregnant','intake_condition_Sick':'intake_sick'\n",
    "                            , 'intake_type_Euthanasia Request':'euthanasia_request_intake'\n",
    "                            , 'intake_type_Owner Surrender':'owner_surrender_intake'\n",
    "                            , 'intake_type_Public Assist':'public_assist_intake','intake_type_Stray':'stray_intake'\n",
    "                            , 'intake_type_Wildlife':'wildlife_intake'\n",
    "                            , 'sex_upon_intake_Intact':'intact_upon_intake', 'sex_upon_intake_Neutered':'neutered_upon_intake'\n",
    "                            , 'sex_upon_intake_Spayed':'spayed_upon_intake', 'sex_upon_intake_Unknown':'unknown_upon_intake'\n",
    "                            , 'sex_upon_outcome_Intact':'intact_upon_outcome', 'sex_upon_outcome_Neutered':'neutered_upon_outcome'\n",
    "                            , 'sex_upon_outcome_Spayed':'spayed_upon_outcome', 'sex_upon_outcome_Unknown':'unknown_upon_outcome'\n",
    "                            , 'outcome_type_Adoption':'adoption_outcome', 'outcome_type_Died':'died_outcome'\n",
    "                            , 'outcome_type_Disposal':'disposal_outcome', 'outcome_type_Euthanasia':'euthanasia_outcome'\n",
    "                            , 'outcome_type_Missing':'missing_outcome', 'outcome_type_Relocate':'relocate_outcome'\n",
    "                            , 'outcome_type_Return to Owner':'rto_owner_outcome', 'outcome_type_Rto-Adopt':'rto_adopt_outcome'\n",
    "                            , 'outcome_type_Transfer':'transfer_outcome'\n",
    "                            , 'sex_Female':'female', 'sex_Male':'male', 'sex_Unknown':'sex_unknown'},inplace=True)\n",
    "print(\"The columns name of aac_dummies dataframes: \")\n",
    "aac_dummies.columns"
   ]
  },
  {
   "cell_type": "markdown",
   "metadata": {},
   "source": [
    "- What we want to predict is whether an animal's outcome type is adoption or not, so we drop those other outcome type columns."
   ]
  },
  {
   "cell_type": "code",
   "execution_count": 22,
   "metadata": {},
   "outputs": [],
   "source": [
    "# Drop columns of other outcome type\n",
    "aac_dummies.drop(columns=['died_outcome', 'disposal_outcome', 'euthanasia_outcome',\n",
    "       'missing_outcome', 'relocate_outcome', 'rto_owner_outcome',\n",
    "       'rto_adopt_outcome', 'transfer_outcome'],axis=1,inplace= True)"
   ]
  },
  {
   "cell_type": "markdown",
   "metadata": {},
   "source": [
    "For data standarization and data spliting, we build functions to implement them: \n",
    "- `standardize_data` for data standarization.\n",
    "- `split_data` for data spliting."
   ]
  },
  {
   "cell_type": "code",
   "execution_count": 23,
   "metadata": {},
   "outputs": [],
   "source": [
    "def standardize_data(df,mean=None,std=None):\n",
    "    \"\"\"Standradize the data.\n",
    "    \n",
    "    Parameters:\n",
    "    ----------\n",
    "        df: pandas.dataframe\n",
    "            dataframe to be standradized\n",
    "    \n",
    "    Returns:\n",
    "    -------\n",
    "        stdize_df: standradized dataframe\n",
    "    \"\"\"\n",
    "    x = df\n",
    "    if ((mean is None)&(std is None)):\n",
    "        # training data stardization\n",
    "        mean_x = x.mean()\n",
    "        std_x = x.std()\n",
    "        stdize_df = (x - mean_x) / std_x\n",
    "    else:\n",
    "        # test data stardization\n",
    "        stdize_df = (x - mean) / std\n",
    "    return stdize_df, mean, std"
   ]
  },
  {
   "cell_type": "code",
   "execution_count": 24,
   "metadata": {},
   "outputs": [],
   "source": [
    "def split_data(df,ratio,seed=1):\n",
    "    \"\"\"Split the data into training set and test set\n",
    "    \n",
    "    Parameters:\n",
    "    ----------\n",
    "        df: dataframe\n",
    "            dataframe to be standradized\n",
    "        ratio: float\n",
    "            the ratio of training data in original data-set\n",
    "    \n",
    "    Returns:\n",
    "    -------\n",
    "        df_tr: (pandas.dataframe) training data-set\n",
    "        df_te: (pandas.dataframe) test data-set\n",
    "    \"\"\"\n",
    "    # Set random seed\n",
    "    np.random.seed(seed)\n",
    "    # Generate indices,i.e. to get the index of training set and test set\n",
    "    num_row = len(df)\n",
    "    indices = np.random.permutation(num_row)\n",
    "    index_split = int(np.floor(ratio * num_row))\n",
    "    index_tr = indices[: index_split]\n",
    "    index_te = indices[index_split:]\n",
    "    # Split into training set and test set\n",
    "    df_tr = df.loc[index_tr]\n",
    "    df_te = df.loc[index_te]\n",
    "    return df_tr,df_te"
   ]
  },
  {
   "cell_type": "markdown",
   "metadata": {},
   "source": [
    "Next:\n",
    "- We split it into 80% for training and 20% for test and derive the label and features from these two set.\n",
    "- Then we standardize the train data-set and test data-set seperately. "
   ]
  },
  {
   "cell_type": "code",
   "execution_count": 25,
   "metadata": {},
   "outputs": [
    {
     "name": "stdout",
     "output_type": "stream",
     "text": [
      "The counts of training set is 63737\n",
      "The counts of test set is 15935\n",
      "The sum of the counts of two sets is 79672 which is equal to the counts(79672) of original data-set\n"
     ]
    }
   ],
   "source": [
    "# Split data into 80% as training set and 20% as test set\n",
    "aac_train, aac_test = split_data(aac_dummies,0.8)\n",
    "\n",
    "# Reset index (otherwise it would raise error in the cross-validation)\n",
    "aac_train.reset_index(inplace=True,drop=True)\n",
    "aac_test.reset_index(inplace=True,drop=True)\n",
    "# Derived label and features from training data and test data\n",
    "x_tr= aac_train.loc[:, aac_train.columns != 'adoption_outcome']\n",
    "y_tr= aac_train['adoption_outcome']\n",
    "x_te = aac_test.loc[:,aac_test.columns != 'adoption_outcome']\n",
    "y_te = aac_test['adoption_outcome']\n",
    "\n",
    "# Standardize training data\n",
    "x_tr,mean,std = standardize_data(x_tr)\n",
    "x_te,_,_ = standardize_data(x_te)\n",
    "\n",
    "# Check if the split is successful\n",
    "len_train = len(aac_train)\n",
    "len_test = len(aac_test)\n",
    "len_origin=len(aac_dummies)\n",
    "print(\"The counts of training set is {c}\".format(c=len_train))\n",
    "print(\"The counts of test set is {c}\".format(c=len_test))\n",
    "print(\"The sum of the counts of two sets is {s} which is equal to the counts({c}) of original data-set\"\\\n",
    "      .format(s=len_train + len_test,c=len_origin))"
   ]
  },
  {
   "cell_type": "markdown",
   "metadata": {},
   "source": [
    "### Task 2.B: Train a logistic regression classifier on your training set\n",
    "- Logistic regression returns probabilities as predictions, so in order to arrive at a binary prediction, you need to put a threshold on the predicted probabilities. \n",
    "- For the decision threshold of 0.5, present the performance of your classifier on the test set by displaying the confusion matrix. \n",
    "- Based on the confusion matrix, manually calculate accuracy, precision, recall, and F1-score with respect to the positive and the negative class. \n",
    "- Vary the value of the threshold in the range from 0 to 1 and visualize the value of accuracy, precision, recall, and F1-score (with respect to both classes) as a function of the threshold. \n",
    "- The shelter has a limited capacity and has no other option but to put to sleep animals with a low probability of adoption. What metric (precision, recall, accuracy, or F1-score) and with respect to what class is the most relevant when choosing the threshold in this scenario, and why? Explain your reasoning."
   ]
  },
  {
   "cell_type": "code",
   "execution_count": 26,
   "metadata": {},
   "outputs": [],
   "source": [
    "def compute_confusion_matrix(pre_test_bin, y_test):\n",
    "    \"\"\"Create a confusion matrix.\n",
    "    \n",
    "    Parameters:\n",
    "    ----------\n",
    "        pre_test_bin: array-like\n",
    "            Binary prediction of sklearn model.\n",
    "        y_test: array-like\n",
    "            Real binary labels of test data.\n",
    "            \n",
    "    Returns:\n",
    "    -------\n",
    "        confus_mat: array-like\n",
    "            Confusion matrix.\n",
    "        pos_metric: list\n",
    "            Accuracy, precision, recall, F1_score with respect to positive class.\n",
    "        neg_metric: list\n",
    "            Accuracy, precision, recall, F1_score with respect to negative class.    \n",
    "    \"\"\"\n",
    "    \n",
    "    #  ----------  Compute confusion matrix  ----------  #\n",
    "    true_pos = np.sum(y_test[pre_test_bin[:, 1].astype(bool)]==1)\n",
    "    false_pos = np.sum(y_test[pre_test_bin[:, 1].astype(bool)]==0)\n",
    "    true_neg = np.sum(y_test[pre_test_bin[:, 0].astype(bool)]==0)\n",
    "    false_neg = np.sum(y_test[pre_test_bin[:, 0].astype(bool)==1])\n",
    "    confus_mat = np.array([[true_pos, false_pos], [false_neg, true_neg]])\n",
    "    confus_mat = pd.DataFrame(confus_mat, index=['Adopted(Pred)', 'Not adopted(Pred)'], columns=['Adopted(Origin)', 'Not adopted(Origin)'])\n",
    "    \n",
    "    #  ----------  Compute accuracy, presicion, recall and F1-score for positive clasee ----------  #\n",
    "    total_population = len(y_test)\n",
    "    accuracy_pos = (true_pos + true_neg) / total_population\n",
    "    precision_pos = true_pos / (true_pos + false_pos)\n",
    "    recall_pos = true_pos / (true_pos + false_neg)\n",
    "    F1_score_pos = 2 * precision_pos * recall_pos / (recall_pos + precision_pos)\n",
    "    metric_pos = [accuracy_pos, precision_pos, recall_pos, F1_score_pos]\n",
    "    #  ----------  Compute accuracy, presicion, recall and F1-score for negative clasee ----------  #\n",
    "    accuracy_neg = (true_pos + true_neg) / total_population\n",
    "    precision_neg = true_neg / (true_neg + false_neg)\n",
    "    recall_neg = true_neg / (true_neg + false_pos)\n",
    "    F1_score_neg = 2 * recall_neg * precision_neg / (recall_neg + precision_neg)\n",
    "    metric_neg = [accuracy_neg, precision_neg, recall_neg, F1_score_neg]\n",
    "\n",
    "    return confus_mat, metric_pos, metric_neg"
   ]
  },
  {
   "cell_type": "code",
   "execution_count": 27,
   "metadata": {},
   "outputs": [],
   "source": [
    "def plot_confusion_matrix(cm, classes,\n",
    "                          normalize=False,\n",
    "                          title='Confusion matrix',\n",
    "                          cmap=plt.cm.Blues):\n",
    "    \"\"\"\n",
    "    This function prints and plots the confusion matrix.\n",
    "    Normalization can be applied by setting `normalize=True`.\n",
    "    \"\"\"\n",
    "    if normalize:\n",
    "        cm = cm.astype('float') / cm.sum(axis=1)[:, np.newaxis]\n",
    "\n",
    "    plt.imshow(cm, interpolation='nearest', cmap=cmap)\n",
    "    plt.title(title)\n",
    "    plt.colorbar()\n",
    "    tick_marks = np.arange(len(classes))\n",
    "    plt.xticks(tick_marks, classes, rotation=45)\n",
    "    plt.yticks(tick_marks, classes)\n",
    "\n",
    "    fmt = '.2f' if normalize else 'd'\n",
    "    thresh = cm.max() / 2.\n",
    "    for i, j in itertools.product(range(cm.shape[0]), range(cm.shape[1])):\n",
    "        plt.text(j, i, format(cm[i, j], fmt),\n",
    "                 horizontalalignment=\"center\",\n",
    "                 color=\"white\" if cm[i, j] > thresh else \"black\")\n",
    "\n",
    "    plt.ylabel('True label')\n",
    "    plt.xlabel('Predicted label')\n",
    "    plt.tight_layout()"
   ]
  },
  {
   "cell_type": "code",
   "execution_count": 28,
   "metadata": {},
   "outputs": [
    {
     "name": "stdout",
     "output_type": "stream",
     "text": [
      "For the decision threshold of 0.5, we present the performance of our classifier\n",
      "-------------------------------------------------------------------------------\n",
      "Confusion Matrix:\n",
      "                   Adopted(Origin)  Not adopted(Origin)\n",
      "Adopted(Pred)                 5496                 1537\n",
      "Not adopted(Pred)             1256                 7646\n",
      "\n",
      "Metric with respect to the positive class (Threshold = 0.5):\n",
      "accuracy = 0.824725, precision = 0.781459, recall = 0.813981, F1-score = 0.797388\n",
      "\n",
      "Metric with respect to the negative class (Threshold = 0.5):\n",
      "accuracy = 0.824725, precision = 0.858908, recall = 0.832626, F1-score = 0.845563\n"
     ]
    }
   ],
   "source": [
    "# ----------  Logistic model training and prediction ----------  #\n",
    "logistic = LogisticRegression(solver='lbfgs',max_iter=1000)\n",
    "logistic.fit(x_tr, y_tr)\n",
    "pre_test_pro = logistic.predict_proba(x_te)\n",
    "pre_test_bin = (pre_test_pro > 0.5).astype(int)\n",
    "\n",
    "# ----------  Calculate and display metric  ----------  #\n",
    "confus_mat, metric_pos, metric_neg = compute_confusion_matrix(pre_test_bin, y_te)\n",
    "print('For the decision threshold of 0.5, we present the performance of our classifier')\n",
    "print('-------------------------------------------------------------------------------')\n",
    "print('Confusion Matrix:\\n{}\\n'.format(confus_mat))\n",
    "print('Metric with respect to the positive class (Threshold = 0.5):')\n",
    "print('accuracy = {:.6f}, precision = {:.6f}, recall = {:.6f}, F1-score = {:.6f}\\n'\n",
    "      .format(metric_pos[0], metric_pos[1], metric_pos[2], metric_pos[3]))\n",
    "print('Metric with respect to the negative class (Threshold = 0.5):')\n",
    "print('accuracy = {:.6f}, precision = {:.6f}, recall = {:.6f}, F1-score = {:.6f}'\n",
    "      .format(metric_neg[0], metric_neg[1], metric_neg[2], metric_neg[3]))"
   ]
  },
  {
   "cell_type": "code",
   "execution_count": 29,
   "metadata": {},
   "outputs": [
    {
     "data": {
      "image/png": "[encoded data removed]",
      "text/plain": [
       "<matplotlib.figure.Figure at 0x1a196cad30>"
      ]
     },
     "metadata": {},
     "output_type": "display_data"
    }
   ],
   "source": [
    "# ----------  Plot confusion matrix  ----------  #\n",
    "class_names = ['Adopted','Not Adopted']\n",
    "# Compute confusion matrix\n",
    "cnf_matrix = confus_mat.values\n",
    "np.set_printoptions(precision=2)\n",
    "# Plot non-normalized confusion matrix\n",
    "plt.figure(figsize=(16,5))\n",
    "plt.subplot(121)\n",
    "plot_confusion_matrix(cnf_matrix, classes=class_names,\n",
    "                      title='Confusion matrix, without normalization')\n",
    "# Plot normalized confusion matrix\n",
    "plt.subplot(122)\n",
    "plot_confusion_matrix(cnf_matrix, classes=class_names, normalize=True,\n",
    "                      title='Normalized confusion matrix')\n",
    "plt.show()"
   ]
  },
  {
   "cell_type": "code",
   "execution_count": 30,
   "metadata": {},
   "outputs": [
    {
     "data": {
      "image/png": "[encoded data removed]",
      "text/plain": [
       "<matplotlib.figure.Figure at 0x1a1aeccda0>"
      ]
     },
     "metadata": {},
     "output_type": "display_data"
    },
    {
     "data": {
      "image/png": "[encoded data removed]",
      "text/plain": [
       "<matplotlib.figure.Figure at 0x1a1b02cd68>"
      ]
     },
     "metadata": {},
     "output_type": "display_data"
    }
   ],
   "source": [
    "# ----------  Vary threshold and get the metric  ----------  #\n",
    "pre_test_bin_list = []\n",
    "metric_pos_list = np.ones([4, 1])\n",
    "metric_neg_list = np.ones([4, 1])\n",
    "k = np.linspace(0, 1, endpoint=False, num=100)\n",
    "for threshold in np.linspace(0, 1, endpoint=False, num=100):\n",
    "    pre_test_bin = (pre_test_pro >= threshold).astype(int)\n",
    "    pre_test_bin_list.append(pre_test_bin)\n",
    "    _, metric_pos, metric_neg = compute_confusion_matrix(pre_test_bin, y_te)\n",
    "    metric_pos_list = np.concatenate((metric_pos_list, np.array(metric_pos).reshape((4,1))), axis = 1)\n",
    "    metric_neg_list = np.concatenate((metric_neg_list, np.array(metric_neg).reshape((4,1))), axis = 1)\n",
    "metric_pos_list = metric_pos_list[:, 1:]\n",
    "metric_neg_list = metric_neg_list[:, 1:]\n",
    "\n",
    "# ----------  Visualize the metric  ----------  #\n",
    "metric_list = [metric_pos_list, metric_neg_list]\n",
    "class_list = ['positive', 'negative']\n",
    "label_list = ['Accuracy', 'Precision', 'Recall', 'F1-score']\n",
    "for class_index in range(2):\n",
    "    fig = plt.figure(figsize=(16, 8))\n",
    "    fig.subplots_adjust(wspace=0.25,hspace=0.25)\n",
    "    fig.suptitle('Figures of metric respect to the {} class'.format(class_list[class_index]))\n",
    "\n",
    "    for index in range(4):\n",
    "        plt.subplot(2, 4, int(index / 2) * 4 + index % 2 + 1)\n",
    "        plt.plot(k, metric_list[class_index][index])\n",
    "        plt.grid(True)\n",
    "        plt.xlabel('Threshold')\n",
    "        plt.ylabel(label_list[index])\n",
    "        plt.legend([label_list[index]])\n",
    "        plt.title('{} - Threshold figure'.format(label_list[index]))\n",
    "    ax = plt.subplot(1, 2, 2)\n",
    "    for index in range(4):  \n",
    "        plt.grid(True)\n",
    "        plt.plot(k, metric_list[class_index][index])\n",
    "        plt.xlabel('Threshold')\n",
    "        plt.ylabel('Metric')\n",
    "        plt.legend(label_list)\n",
    "        plt.title('Metric - Threshold figure')"
   ]
  },
  {
   "cell_type": "markdown",
   "metadata": {},
   "source": [
    "We think that **Precision with respect to positive class** is most relevant in this scenario.\n",
    "\n",
    "```Explanation```:\n",
    "1. **Precision_pos = true_pos / (true_pos + false_pos)**, which means what fraction of positive examples did we recognize as such.\n",
    "2. Because animals with a low probability of adoption will be euthanasia, we hope to ensure the **animals left** (which have a high probability of adoption and are classified as adoption) **be adopted** as much as they can.\n",
    "3. We hope to get a high **Precision with respect to positive class** when setting the threshold, which means that if the prediction of animal is adopted, the possiblity of adoption in reality is high."
   ]
  },
  {
   "cell_type": "markdown",
   "metadata": {},
   "source": [
    "### Task 2.C Reduce the number of features by selecting the subset of the k best features. \n",
    "- Use greedy backward selection to iteratively remove features. \n",
    "- Evaluate performance and visualize the result using 5-fold cross-validation on the training set as a function of k, where k = 1, 5, 10, 15, 20, 25, 30. \n",
    "- Choose the optimal k and justify your choice. Interpret the top-k features and their impact on the probability of adoption."
   ]
  },
  {
   "cell_type": "code",
   "execution_count": 31,
   "metadata": {},
   "outputs": [],
   "source": [
    "def cross_validation_logistic(label, data, k, model):\n",
    "    \"\"\"Use cross-validation(Logistic Model) and compute average accurancy.\n",
    "    \n",
    "    Parameters:\n",
    "    ----------\n",
    "        label: pandas.DataFrame\n",
    "            Binary prediction of sklearn model.\n",
    "        data: pandas.DataFrame\n",
    "            Real binary labels of test data.\n",
    "        k: integer\n",
    "            Number of folds.\n",
    "        model:\n",
    "            Training Model\n",
    "            \n",
    "    Returns:\n",
    "    -------\n",
    "        avg_accuracy: float\n",
    "            Average accurancy with respect to positive class.\n",
    "    \"\"\"\n",
    "    #  ----------  We use 0.5 as Threshold and accuracy as metric  ----------  #\n",
    "    random_index = np.random.permutation(data.shape[0])\n",
    "    accurancy_list = []\n",
    "    model_list = []\n",
    "    for index in range(k):\n",
    "        # ----------  Calculate the indice of each fold  ----------  #\n",
    "        k_index_start = int(index / k * data.shape[0])\n",
    "        k_index_end = int((index + 1) / k * data.shape[0])\n",
    "        k_test_index = random_index[np.arange(k_index_start, k_index_end)]\n",
    "        \n",
    "        k_train_index = np.ones(data.shape[0])\n",
    "        k_train_index[np.arange(k_index_start, k_index_end)] = 0\n",
    "        k_train_index = random_index[k_train_index == 1]\n",
    "        \n",
    "        # ----------  Use specific model and predict  ----------  #\n",
    "        test_data = data.iloc[k_test_index]\n",
    "        test_label = label[k_test_index]\n",
    "        train_data = data.iloc[k_train_index]\n",
    "        train_label = label[k_train_index]\n",
    "        model_result = model.fit(train_data, train_label)\n",
    "        \n",
    "        pre_test_pro = model.predict_proba(test_data)\n",
    "        pre_test_bin = (pre_test_pro > 0.5).astype(int)    \n",
    "        \n",
    "        # ----------  Calculate accuracy respect to positive degree  ----------  #\n",
    "        true_pos = np.sum(test_label[pre_test_bin[:, 1].astype(bool)])\n",
    "        true_neg = np.sum(test_label[pre_test_bin[:, 0].astype(bool)]==0)\n",
    "        total_population = test_data.shape[0]\n",
    "        accuracy_pos = (true_pos + true_neg) / total_population\n",
    "        accurancy_list.append(accuracy_pos)\n",
    "        \n",
    "    avg_accuracy = np.mean(accurancy_list)\n",
    "    return avg_accuracy"
   ]
  },
  {
   "cell_type": "code",
   "execution_count": 32,
   "metadata": {},
   "outputs": [],
   "source": [
    "def greedy_backward_selection(X_train, y_train, X_test, y_test):\n",
    "    \"\"\"Use greedy backward selection to iteratively remove features.\n",
    "    \n",
    "    Parameters:\n",
    "    ----------\n",
    "        X_train: pandas.DataFrame\n",
    "            Train data.\n",
    "        y_train: pandas.DataFrame\n",
    "            Real binary labels of train data.\n",
    "        X_test: integer\n",
    "            Test data.\n",
    "        y_test:\n",
    "            Real binary labels of test data.\n",
    "            \n",
    "    Returns:\n",
    "    -------\n",
    "        k_accurancy_list: list\n",
    "            A list of accuracy calculated on test set.\n",
    "        avg_accuracy: float\n",
    "            Average accuracy when runing cross-validation on train set.\n",
    "        feature_index_list: list\n",
    "            Feature index in each loop. \n",
    "    \"\"\"\n",
    "    # ----------  Use greedy backward selection to iteratively remove features  ----------  #\n",
    "    # ----------  Compute Initial accurancy  ----------  #\n",
    "    logistic = LogisticRegression(solver='lbfgs').fit(X_train, y_train)\n",
    "    pre_test_pro = logistic.predict_proba(X_test)\n",
    "    pre_test_bin = (pre_test_pro > 0.5).astype(int)\n",
    "    _, pos_metric, _ = compute_confusion_matrix(pre_test_bin, y_test)\n",
    "    k_accurancy_list = [pos_metric[0]]\n",
    "    k_avg_accurancy = [cross_validation_logistic(y_train, X_train, 5, LogisticRegression(solver='lbfgs'))]\n",
    "\n",
    "    # ----------  Greedy backward selection  ----------  #\n",
    "    feature_index = np.arange(X_train.shape[1])        # real indice of features\n",
    "    feature_index_list = [feature_index]\n",
    "    feature_aim = list(range(X_train.shape[1]))        # relative indice of features\n",
    "    feather_len = len(feature_aim)\n",
    "\n",
    "    while (feather_len > 1):\n",
    "        # select optimal features for each step = 1 \n",
    "        data_input = X_train.iloc[:, feature_index]  \n",
    "        # combination\n",
    "        feature_list = list(combinations(range(feather_len), feather_len - 1))    # \n",
    "        cv_list = []\n",
    "        # For each scenario, compute its average accuracy by cv\n",
    "        for index in feature_list:\n",
    "            data_fea_sel = data_input.iloc[:, list(index)]\n",
    "            cv_list.append(cross_validation_logistic(y_train, data_fea_sel, 5, LogisticRegression(solver='lbfgs')))\n",
    "\n",
    "        # ----------  Find combination maximizing accurancy  ----------  #\n",
    "        feature_aim = list(feature_list[np.argmax(cv_list)])\n",
    "        feather_len = len(feature_aim)\n",
    "        feature_index = feature_index[feature_aim]\n",
    "        feature_index_list.append(feature_index)\n",
    "        k_avg_accurancy.append(np.max(cv_list))\n",
    "\n",
    "        # ----------  Use test data to test  ----------  #\n",
    "        logistic = LogisticRegression(solver='lbfgs').fit(X_train.iloc[:, feature_index], y_train)\n",
    "        pre_test_pro = logistic.predict_proba(X_test.iloc[:, feature_index])\n",
    "        pre_test_bin = (pre_test_pro > 0.5).astype(int)\n",
    "        _, pos_metric, _ = compute_confusion_matrix(pre_test_bin, y_test)\n",
    "        k_accurancy_list.append(pos_metric[0])\n",
    "    return k_accurancy_list, k_avg_accurancy, feature_index_list"
   ]
  },
  {
   "cell_type": "markdown",
   "metadata": {},
   "source": [
    "```Explanation```:\n",
    "\n",
    "1. For the greedy backward selection algorithm, we use cross-validation on training set to select features and the test set is only used to evaluate performance for chosing k features.\n",
    "2. For each iteration, we assume that it has ```i+1``` features. Then we check all the possible combinations of ```i``` features and run 5-fold cross-validation on training set to get the **average accuracy** with respect to positive class.\n",
    "3. Then we find one feature combination which has the best average accuracy with respect to positive class and regard these  ```i``` features in next iteration. \n",
    "4. Repeat the step 2 and 3 until we have only k remaining features.\n",
    "4. Finally, we run our model on the test set to have a final estimation of our performance."
   ]
  },
  {
   "cell_type": "code",
   "execution_count": 33,
   "metadata": {},
   "outputs": [],
   "source": [
    "def plot_cv(k_accurancy_list, k_avg_accurancy,X_train):\n",
    "# ----------  Plot Cross-validation max average accurancy - k  figure (Train set)   ----------  #\n",
    "    k_point = [1, 5, 10, 15, 20, 25, 30]\n",
    "    fig = plt.figure(figsize=(16, 8))\n",
    "    fig.subplots_adjust(wspace=0.25,hspace=0.25)\n",
    "    plt.subplot(1, 2, 1)\n",
    "    plt.plot(np.arange(X_train.shape[1], 0, -1), k_avg_accurancy)\n",
    "    plt.plot(np.array(k_point), (np.array(k_avg_accurancy[::-1]))[np.array(k_point) - 1], 'r*');\n",
    "    plt.grid(True)\n",
    "    plt.xlabel('k-Number of features')\n",
    "    plt.ylabel('Max average accurancy')\n",
    "    plt.legend(['Max average accurancy - k  line'])\n",
    "    plt.title('Figure: Cross-validation max average accurancy - k')\n",
    "\n",
    "    #  ----------  Plot Test set accurancy - k figure----------  #\n",
    "    plt.subplot(1, 2, 2)\n",
    "    plt.plot(np.arange(X_train.shape[1], 0, -1), k_accurancy_list)\n",
    "    plt.plot(np.array(k_point), (np.array(k_accurancy_list[::-1]))[np.array(k_point) - 1], 'r*');\n",
    "    plt.grid(True)\n",
    "    plt.xlabel('k-Number of features')\n",
    "    plt.ylabel('Test Accurancy')\n",
    "    plt.legend(['Accurancy - k line'])\n",
    "    plt.title('Figure: Test set accurancy - k')\n",
    "    plt.show()"
   ]
  },
  {
   "cell_type": "code",
   "execution_count": 34,
   "metadata": {
    "scrolled": false
   },
   "outputs": [
    {
     "data": {
      "image/png": "[encoded data removed]",
      "text/plain": [
       "<matplotlib.figure.Figure at 0x1a235750b8>"
      ]
     },
     "metadata": {},
     "output_type": "display_data"
    }
   ],
   "source": [
    "#  ----------  Run cross-validation and plot results  ----------  #\n",
    "k_accurancy_list, k_avg_accurancy, feature_index_list= greedy_backward_selection(x_tr, y_tr,x_te,y_te)\n",
    "plot_cv(k_accurancy_list, k_avg_accurancy,x_tr)"
   ]
  },
  {
   "cell_type": "code",
   "execution_count": 35,
   "metadata": {},
   "outputs": [
    {
     "data": {
      "text/html": [
       "<div>\n",
       "<style scoped>\n",
       "    .dataframe tbody tr th:only-of-type {\n",
       "        vertical-align: middle;\n",
       "    }\n",
       "\n",
       "    .dataframe tbody tr th {\n",
       "        vertical-align: top;\n",
       "    }\n",
       "\n",
       "    .dataframe thead th {\n",
       "        text-align: right;\n",
       "    }\n",
       "</style>\n",
       "<table border=\"1\" class=\"dataframe\">\n",
       "  <thead>\n",
       "    <tr style=\"text-align: right;\">\n",
       "      <th></th>\n",
       "      <th>Test set Accuracy</th>\n",
       "    </tr>\n",
       "    <tr>\n",
       "      <th>k</th>\n",
       "      <th></th>\n",
       "    </tr>\n",
       "  </thead>\n",
       "  <tbody>\n",
       "    <tr>\n",
       "      <th>1</th>\n",
       "      <td>0.654973</td>\n",
       "    </tr>\n",
       "    <tr>\n",
       "      <th>5</th>\n",
       "      <td>0.817571</td>\n",
       "    </tr>\n",
       "    <tr>\n",
       "      <th>10</th>\n",
       "      <td>0.826357</td>\n",
       "    </tr>\n",
       "    <tr>\n",
       "      <th>15</th>\n",
       "      <td>0.826294</td>\n",
       "    </tr>\n",
       "    <tr>\n",
       "      <th>20</th>\n",
       "      <td>0.826169</td>\n",
       "    </tr>\n",
       "    <tr>\n",
       "      <th>25</th>\n",
       "      <td>0.825604</td>\n",
       "    </tr>\n",
       "    <tr>\n",
       "      <th>30</th>\n",
       "      <td>0.824851</td>\n",
       "    </tr>\n",
       "  </tbody>\n",
       "</table>\n",
       "</div>"
      ],
      "text/plain": [
       "    Test set Accuracy\n",
       "k                    \n",
       "1            0.654973\n",
       "5            0.817571\n",
       "10           0.826357\n",
       "15           0.826294\n",
       "20           0.826169\n",
       "25           0.825604\n",
       "30           0.824851"
      ]
     },
     "execution_count": 35,
     "metadata": {},
     "output_type": "execute_result"
    }
   ],
   "source": [
    "#  ----------  Print accuracy for k = 1, 5, 10, 15, 20, 25, 30  ----------  # \n",
    "k_point = [1, 5, 10, 15, 20, 25, 30]\n",
    "k_point_df = pd.DataFrame({'k':[1, 5, 10, 15, 20, 25, 30], \n",
    "                           'Test set Accuracy':(np.array(k_accurancy_list[::-1]))[np.array(k_point) - 1]})\n",
    "k_point_df.set_index('k')"
   ]
  },
  {
   "cell_type": "markdown",
   "metadata": {},
   "source": [
    "⬆ From above, we know:\n",
    "1. The performance of remaining features can be seen from Figure: Test set accurancy - k, which plots a function of accuracy on test set with k.\n",
    "2. When we remove features, accuracy on test set keeps stable until the number of remaining features reduce to 5.\n",
    "3. If we continue to keep removing features until there are only 5 features left, the accuracy will decrease significantly."
   ]
  },
  {
   "cell_type": "code",
   "execution_count": 36,
   "metadata": {},
   "outputs": [
    {
     "name": "stdout",
     "output_type": "stream",
     "text": [
      "The top-5 features that remain are:\n",
      "['owner_surrender_intake' 'public_assist_intake' 'intact_upon_intake'\n",
      " 'neutered_upon_outcome' 'spayed_upon_outcome']\n"
     ]
    }
   ],
   "source": [
    "#  ----------  Show top-5 features  ----------  #\n",
    "print('The top-5 features that remain are:')\n",
    "print(x_tr.columns[feature_index_list[::-1][4]].values)"
   ]
  },
  {
   "cell_type": "markdown",
   "metadata": {},
   "source": [
    "We choose 5 as the optimal k.\n",
    "\n",
    "```Explanation```:\n",
    "1. Because k = 5 is the minimum feature number that can still keep the accuracy very close to the highest accuracy we can have, which ensures that we can still have a good performance even if we have less features.\n",
    "2. We can see obviously from the figure that if we continue to remove features, the accuracy will decrease significantly.\n",
    "\n",
    "The 5 optimal features are time_in_shelter_days, public_assist_intake, stray_intake, intact_upon_intake, unknown_upon_intake.\n",
    "\n",
    "```Explanation```:\n",
    "1. **time_in_shelter_days**: Animals may be recieved a good care and be treated well in the shelter. Therefore, people may tend to adopt animals which have been kept in shelter for a long time, which means the animals are much healthier.\n",
    "2. **public_assist_intake**: Animals which have public assistance may reduce the economic feeding pressure of adoptor, so people are more willing to adopt them.\n",
    "3. **stray_intake**: Strayed animals may arouse people's sympathy so that they are more likely to be adopted.\n",
    "4. **intact_upon_intake**: Obviously, the adopter may don't like spayed or neutered animals and hope the animals they adopted have intact sex.\n",
    "5. **unknown_upon_intake**: Sorry, we don't know...Those data may result from the mistake of recording."
   ]
  },
  {
   "cell_type": "markdown",
   "metadata": {},
   "source": [
    "###  Task 2.D Train a random forest. \n",
    "- Use 5-fold cross-validation on the training set to fine-tune the parameters of the classifier using a grid search on the number of estimators \"n_estimators\" and the max depth of the trees \"max_depth\". \n",
    "- For the chosen parameters, estimate the performance of your classifier on the test set by presenting the confusion matrix, accuracy, precision, recall, and F1-score with respect to both classes and compare the performance with the performance of the logistic regression. Interpret the results."
   ]
  },
  {
   "cell_type": "markdown",
   "metadata": {},
   "source": [
    "In this task, we use different way to implement the cross-validation.\n",
    "1. We build a function called `build_k_indices` to build k indices used for cross-validation.\n",
    "2. We also build a function for one-step cross-validation using random forest classifier called `cross_validation_rdmforest` \n",
    "3. The `run_cross_validation_rdmforest` function is used for grid search to tune the parameter and implement 5-fold cross-validation. We just chose 10 **n_estimators** and **max_depths** to find the best accuracy among them and the corresponding n_estimator and max_depth."
   ]
  },
  {
   "cell_type": "code",
   "execution_count": 37,
   "metadata": {},
   "outputs": [],
   "source": [
    "def build_k_indices(df, k_fold, seed=1):\n",
    "    \"\"\"build k indices for k-fold.\n",
    "    \n",
    "    Parameters:\n",
    "    ----------\n",
    "        df: pandas.DataFrame\n",
    "            the dataframe need to be processed\n",
    "        k_fold: integer\n",
    "            Number of folds.\n",
    "        seed: integer\n",
    "            random seed\n",
    "        \n",
    "    Returns:\n",
    "    -------\n",
    "        array of indices\n",
    "    \"\"\"\n",
    "    num_row = len(df)\n",
    "    interval = int(num_row / k_fold)\n",
    "    # resort the index randomly\n",
    "    np.random.seed(seed)\n",
    "    indices = np.random.permutation(num_row)\n",
    "    # split k indices\n",
    "    k_indices = [indices[k * interval: (k + 1) * interval] for k in range(k_fold)]\n",
    "    return np.array(k_indices)"
   ]
  },
  {
   "cell_type": "code",
   "execution_count": 38,
   "metadata": {},
   "outputs": [],
   "source": [
    "def cross_validation_rdmforest(df_y, df_x, k_indices, k,n_est=None,max_dep=None):\n",
    "    \"\"\"Use cross-validation(random forest Model) and compute the accuracy.\n",
    "    \n",
    "    Parameters:\n",
    "    ----------\n",
    "        df_y: pandas.DataFrame\n",
    "            labels of data\n",
    "        df_x: pandas.DataFrame\n",
    "            features of data\n",
    "        k: integer\n",
    "            current indice of k-fold\n",
    "        n_est:\n",
    "            the n_estimators parameter for RandomForestClassifier()\n",
    "        max_dep:\n",
    "            the max_depth parameter for RandomForestClassifier()\n",
    "            \n",
    "    Returns:\n",
    "    -------\n",
    "        accuracy of current fold of cross-validation\n",
    "    \"\"\"\n",
    "    # assign the k-th indice to the test set and others to the training set\n",
    "    te_indice = k_indices[k]\n",
    "    tr_indice = k_indices[~(np.arange(k_indices.shape[0]) == k)]\n",
    "    tr_indice = tr_indice.reshape(-1)\n",
    "    y_te = df_y.loc[te_indice]\n",
    "    y_tr = df_y.loc[tr_indice]\n",
    "    x_te = df_x.loc[te_indice]\n",
    "    x_tr = df_x.loc[tr_indice]\n",
    "    \n",
    "    # training using random forest classifier\n",
    "    if((n_est is None) | (max_dep is None)):\n",
    "        raise ValueError('set values for n_estimators or max_depth')\n",
    "    clf = RandomForestClassifier(n_estimators=n_est, max_depth=max_dep)\n",
    "    clf.fit(x_tr, y_tr)\n",
    "    # predict\n",
    "    pred_cv = clf.predict_proba(x_te)\n",
    "    \n",
    "    # turn the prediction probability into 0(not adopted) and 1(adopted)\n",
    "    pre_test_bin = (pred_cv > 0.5).astype(int)\n",
    "    # compute accuracy\n",
    "    _, metric_pos, _ = compute_confusion_matrix(pre_test_bin, y_te)\n",
    "    accuracy = metric_pos[0]\n",
    "    \n",
    "    return accuracy"
   ]
  },
  {
   "cell_type": "code",
   "execution_count": 39,
   "metadata": {},
   "outputs": [],
   "source": [
    "def run_cross_validation_rdmforest(df_y,df_x,k_fold,seed=1):\n",
    "    \"\"\" \n",
    "        Tune parameters of RandomForestClassifier() using grid search,\n",
    "        and 5-fold cross-validation.\n",
    "    \n",
    "     Parameters:\n",
    "    ----------\n",
    "        df_y: pandas.DataFrame\n",
    "            labels of data\n",
    "        df_x: pandas.DataFrame\n",
    "            features of data\n",
    "        k_fold: integer\n",
    "            Number of folds.\n",
    "        seed: integer\n",
    "            random seed\n",
    "            \n",
    "    Returns:\n",
    "    -------\n",
    "        best_accuracy[ind_best] : best accuracy\n",
    "        n_ests[ind_best]: corresponding n_estimator\n",
    "        best_max_deps[ind_best]: corresponding max_depth\n",
    "    \"\"\"\n",
    "    k_indices = build_k_indices(df_y, k_fold, seed) \n",
    "    # randomly choose some figures for tuning\n",
    "    n_ests = np.array([10,20,30,40,50,60,70,80,90,100])\n",
    "    max_deps = np.array([3,5,7,9,11,13,15])\n",
    "    \n",
    "    best_accuracy = []\n",
    "    best_max_deps = []\n",
    "    for n_est in n_ests:\n",
    "        accuracy_te = []\n",
    "        for max_dep in max_deps:\n",
    "            accuracy_te_tmp = []\n",
    "            # k_fold corss-validation\n",
    "            for k in range(k_fold):\n",
    "                accu = cross_validation_rdmforest(df_y, df_x, k_indices, k,n_est,max_dep)\n",
    "                accuracy_te_tmp.append(accu)\n",
    "            # get average accuracy\n",
    "            accuracy_te.append(np.mean(accuracy_te_tmp)) \n",
    "        \n",
    "        # get the best accuracy in max_depths set and the corresponding max_depth\n",
    "        ind_accuracy_opt = np.argmax(accuracy_te)\n",
    "        best_max_deps.append(max_deps[ind_accuracy_opt])\n",
    "        best_accuracy.append(accuracy_te[ind_accuracy_opt])\n",
    "        print(\"-------------n_estimators: {n}, max_depth: {m}, best_accuracy: {accu}-----------------\".\n",
    "              format(n=n_est, m=max_deps[ind_accuracy_opt], accu=accuracy_te[ind_accuracy_opt]))\n",
    "    \n",
    "    # get the best accuracy in both n_estimators and max_depths set and the corresponding n_estimator and max_depth\n",
    "    ind_best = np.argmax(best_accuracy)\n",
    "    print(\"*********Best n_estimator: {n}, best_max_depth: {m},  best accuracy: {accu}***********\".\n",
    "          format(n=n_ests[ind_best], m=best_max_deps[ind_best], accu=best_accuracy[ind_best]))\n",
    "        \n",
    "    return n_ests[ind_best], best_max_deps[ind_best], best_accuracy[ind_best]"
   ]
  },
  {
   "cell_type": "markdown",
   "metadata": {},
   "source": [
    "Run 5-fold cross-validation to tune n_estimator and max_depth parameters"
   ]
  },
  {
   "cell_type": "code",
   "execution_count": 40,
   "metadata": {},
   "outputs": [
    {
     "name": "stdout",
     "output_type": "stream",
     "text": [
      "-------------n_estimators: 10, max_depth: 15, best_accuracy: 0.8535655448340786-----------------\n",
      "-------------n_estimators: 20, max_depth: 15, best_accuracy: 0.8543343531811407-----------------\n",
      "-------------n_estimators: 30, max_depth: 15, best_accuracy: 0.8549305718992704-----------------\n",
      "-------------n_estimators: 40, max_depth: 15, best_accuracy: 0.8556209304149996-----------------\n",
      "-------------n_estimators: 50, max_depth: 15, best_accuracy: 0.8555738605161999-----------------\n",
      "-------------n_estimators: 60, max_depth: 15, best_accuracy: 0.8555581705499333-----------------\n",
      "-------------n_estimators: 70, max_depth: 15, best_accuracy: 0.8553698909547345-----------------\n",
      "-------------n_estimators: 80, max_depth: 15, best_accuracy: 0.8555738605161999-----------------\n",
      "-------------n_estimators: 90, max_depth: 15, best_accuracy: 0.8560131795716639-----------------\n",
      "-------------n_estimators: 100, max_depth: 15, best_accuracy: 0.8562642190319292-----------------\n",
      "*********Best n_estimator: 100, best_max_depth: 15,  best accuracy: 0.8562642190319292***********\n"
     ]
    }
   ],
   "source": [
    "# run cross-validation \n",
    "n_est, max_dep, accu = run_cross_validation_rdmforest(y_tr,x_tr,5)"
   ]
  },
  {
   "cell_type": "markdown",
   "metadata": {},
   "source": [
    "Now we have gotten the fine-parameter to use in the random forest classifier model in which n_estimator = 100 and max_depth = 15.<br/>\n",
    "Then we plug into model and predict the label on test set."
   ]
  },
  {
   "cell_type": "code",
   "execution_count": 41,
   "metadata": {},
   "outputs": [
    {
     "name": "stdout",
     "output_type": "stream",
     "text": [
      "For the decision threshold of 0.5, we present the performance of our classifier\n",
      "-------------------------------------------------------------------------------\n",
      "Confusion Matrix:\n",
      "                   Adopted(Origin)  Not adopted(Origin)\n",
      "Adopted(Pred)                 5943                 1496\n",
      "Not adopted(Pred)              809                 7687\n",
      "\n",
      "Metric with respect to the positive class (Threshold = 0.5):\n",
      "accuracy = 0.855350, precision = 0.798898, recall = 0.880184, F1-score = 0.837573\n",
      "\n",
      "Metric with respect to the negative class (Threshold = 0.5):\n",
      "accuracy = 0.855350, precision = 0.904779, recall = 0.837090, F1-score = 0.869619\n"
     ]
    }
   ],
   "source": [
    "# Train data\n",
    "clf = RandomForestClassifier(n_estimators=n_est, max_depth=max_dep)\n",
    "clf.fit(x_tr, y_tr)\n",
    "# Predict\n",
    "pred_rdm = clf.predict_proba(x_te)\n",
    "# turn the prediction probability into 0(not adopted) and 1(adopted)\n",
    "pre_test_bin = (pred_rdm > 0.5).astype(int)\n",
    "\n",
    "# Calculate and display metric\n",
    "print('For the decision threshold of 0.5, we present the performance of our classifier')\n",
    "print('-------------------------------------------------------------------------------')\n",
    "confus_mat, metric_pos, metric_neg = compute_confusion_matrix(pre_test_bin, y_te)\n",
    "print('Confusion Matrix:\\n{}\\n'.format(confus_mat))\n",
    "print('Metric with respect to the positive class (Threshold = 0.5):')\n",
    "print('accuracy = {:.6f}, precision = {:.6f}, recall = {:.6f}, F1-score = {:.6f}\\n'\n",
    "      .format(metric_pos[0], metric_pos[1], metric_pos[2], metric_pos[3]))\n",
    "print('Metric with respect to the negative class (Threshold = 0.5):')\n",
    "print('accuracy = {:.6f}, precision = {:.6f}, recall = {:.6f}, F1-score = {:.6f}'\n",
    "      .format(metric_neg[0], metric_neg[1], metric_neg[2], metric_neg[3]))"
   ]
  },
  {
   "cell_type": "markdown",
   "metadata": {},
   "source": [
    "Plot"
   ]
  },
  {
   "cell_type": "code",
   "execution_count": 42,
   "metadata": {},
   "outputs": [
    {
     "data": {
      "image/png": "[encoded data removed]",
      "text/plain": [
       "<matplotlib.figure.Figure at 0x1a20d83ef0>"
      ]
     },
     "metadata": {},
     "output_type": "display_data"
    }
   ],
   "source": [
    "#  ----------  Plot the non-normalized confusion matrix and normalized confusion matrix  ----------  #\n",
    "class_names = ['Adopted','Not Adopted']\n",
    "\n",
    "# Compute confusion matrix\n",
    "cnf_matrix = confus_mat.values\n",
    "np.set_printoptions(precision=2)\n",
    "\n",
    "# Plot non-normalized confusion matrix\n",
    "plt.figure(figsize=(16,5))\n",
    "plt.subplot(121)\n",
    "plot_confusion_matrix(cnf_matrix, classes=class_names,\n",
    "                      title='Confusion matrix, without normalization')\n",
    "\n",
    "# Plot normalized confusion matrix\n",
    "plt.subplot(122)\n",
    "plot_confusion_matrix(cnf_matrix, classes=class_names, normalize=True,\n",
    "                      title='Normalized confusion matrix')\n",
    "\n",
    "plt.show()"
   ]
  },
  {
   "cell_type": "markdown",
   "metadata": {},
   "source": [
    "The confusion matrix and other figures of `logistic regression` is shown below again (because it is too far from this task):<br/>\n",
    "Confusion Matrix:"
   ]
  },
  {
   "cell_type": "markdown",
   "metadata": {},
   "source": [
    "|     * | Adopted(Origin)     | Not adopted(Origin)    |\n",
    "| ---------------- | -------------- | -------------- |\n",
    "| Adopted(Pred)  | 5496  | 1537 |\n",
    "| Not adopted(Pred)| 1256 | 7646 |"
   ]
  },
  {
   "cell_type": "markdown",
   "metadata": {},
   "source": [
    "Metric with respect to the positive class (Threshold = 0.5):<br/>\n",
    "accuracy = 0.824725, precision = 0.781459, recall = 0.813981, F1-score = 0.797388\n",
    "\n",
    "Metric with respect to the negative class (Threshold = 0.5):<br/>\n",
    "accuracy = 0.824725, precision = 0.858908, recall = 0.832626, F1-score = 0.845563"
   ]
  },
  {
   "cell_type": "markdown",
   "metadata": {},
   "source": [
    "⬆ As is shown above, compared to the figures of logistic regression, all the figures in random forest classifier are obviously higher than those in logistic regression with respect to either positive class or negative class.\n",
    "\n",
    "The random forest classifier grows K trees on datasets sampled from the original dataset (size N) with replacement (bootstrap samples) and aggregates the predictions of the trees (most popular vote, or average) to produce the final class. It means that it makes prediction several times and chooses the most possible one  while the logistic regression just makes prediction once and does not have other probability to compare with. Therefore, the figures,especially the accuracy, are better than the latter one."
   ]
  }
 ],
 "metadata": {
  "kernelspec": {
   "display_name": "Python 3",
   "language": "python",
   "name": "python3"
  },
  "language_info": {
   "codemirror_mode": {
    "name": "ipython",
    "version": 3
   },
   "file_extension": ".py",
   "mimetype": "text/x-python",
   "name": "python",
   "nbconvert_exporter": "python",
   "pygments_lexer": "ipython3",
   "version": "3.6.4"
  },
  "varInspector": {
   "cols": {
    "lenName": 16,
    "lenType": 16,
    "lenVar": 40
   },
   "kernels_config": {
    "python": {
     "delete_cmd_postfix": "",
     "delete_cmd_prefix": "del ",
     "library": "var_list.py",
     "varRefreshCmd": "print(var_dic_list())"
    },
    "r": {
     "delete_cmd_postfix": ") ",
     "delete_cmd_prefix": "rm(",
     "library": "var_list.r",
     "varRefreshCmd": "cat(var_dic_list()) "
    }
   },
   "types_to_exclude": [
    "module",
    "function",
    "builtin_function_or_method",
    "instance",
    "_Feature"
   ],
   "window_display": false
  }
 },
 "nbformat": 4,
 "nbformat_minor": 2
}
