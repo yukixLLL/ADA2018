{
 "cells": [
  {
   "cell_type": "markdown",
   "metadata": {},
   "source": [
    "# ADA 2018 - Homework 3\n",
    "\n",
    "\n",
    "\n",
    "## Undestanding the StackOverflow community\n",
    "\n",
    "\n",
    "Deadline: Nov 7th 2018, 23:59:59\n",
    "\n",
    "Submission link: Check channel homework-3-public"
   ]
  },
  {
   "cell_type": "markdown",
   "metadata": {},
   "source": [
    "StackOverflow is the most popular programming-related Q&A website. It serves as a platform for users to ask and answer questions and to vote questions and answers up or down. Users of StackOverflow can earn reputation points and \"badges\"; for example, a person is awarded 10 reputation points for receiving an \"up\" vote on an answer given to a question, and 5 points for the \"up\" vote on a question asked. Also, users receive badges for their valued contributions, which represents a kind of gamification of the traditional Q&A site. \n",
    "\n",
    "[Learn more about StackOverflow on Wikipedia](https://en.wikipedia.org/wiki/Stack_Overflow)\n",
    "\n",
    "----\n",
    "\n",
    "Dataset link:\n",
    "\n",
    "https://drive.google.com/open?id=1POlGjqzw9v_pZ_bUnXGihOgk45kbvNjB\n",
    "\n",
    "http://iccluster053.iccluster.epfl.ch/Posts.json.zip (mirror 1)\n",
    "\n",
    "https://iloveadatas.com/datasets/Posts.json.zip (mirror 2)\n",
    "\n",
    "Dataset description:\n",
    "\n",
    "* **Id**: Id of the post\n",
    "* **CreationDate**: Creation date of the post (String format)\n",
    "* **PostTypeId**: Type of post (Question = 1, Answer = 2)\n",
    "* **ParentId**: The id of the question. Only present if PostTypeId = 2\n",
    "* **Score**: Points assigned by the users\n",
    "* **Tags**: Tags of the question. Only present if PostTypeId = 1\n",
    "* **Title**: Only present if PostTypeId = 1\n",
    "* **ViewCount**: Only present if PostTypeId = 1\n",
    "\n",
    "The dataset format is JSON. Here are examples of a question and an answer:\n",
    "\n",
    "Question:\n",
    "```json\n",
    "{\n",
    "    \"Id\": 10130734,\n",
    "    \"CreationDate\": \"2012-04-12T19:51:25.793+02:00\",\n",
    "    \"PostTypeId\": 1,\n",
    "    \"Score\": 4,\n",
    "    \"Tags\": \"<python><pandas>\",\n",
    "    \"Title\": \"Best way to insert a new value\",\n",
    "    \"ViewCount\": 3803\n",
    "}\n",
    "```\n",
    "\n",
    "Answer:\n",
    "```json\n",
    "{  \n",
    "   \"CreationDate\":\"2010-10-26T03:19:05.063+02:00\",\n",
    "   \"Id\":4020440,\n",
    "   \"ParentId\":4020214,\n",
    "   \"PostTypeId\":2,\n",
    "   \"Score\":1\n",
    "}\n",
    "```\n",
    "\n",
    "----\n",
    "Useful resources:\n",
    "\n",
    "**Spark SQL, DataFrames and Datasets Guide**\n",
    "\n",
    "https://spark.apache.org/docs/latest/sql-programming-guide.html\n",
    "\n",
    "**Database schema documentation for the public data dump**\n",
    "\n",
    "https://meta.stackexchange.com/questions/2677/database-schema-documentation-for-the-public-data-dump-and-sede\n",
    "\n",
    "----\n",
    "\n",
    "**Note:** Use Spark where possible. Some computations can take more than 10 minutes on a common notebook. Consider to save partial results on disk."
   ]
  },
  {
   "cell_type": "code",
   "execution_count": 1,
   "metadata": {},
   "outputs": [],
   "source": [
    "# Add your imports here\n",
    "# Basic Package\n",
    "import pandas as pd\n",
    "import numpy as np\n",
    "import scipy as sp\n",
    "\n",
    "# Graphic Package\n",
    "import matplotlib.pyplot as plt\n",
    "import seaborn as sns\n",
    "%matplotlib inline\n",
    "\n",
    "# pyspark Package \n",
    "from pyspark.sql import *\n",
    "from pyspark.sql.functions import *\n",
    "import pyspark.sql.functions as f\n",
    "from pyspark.sql.functions import udf\n",
    "from pyspark.sql.types import StringType\n",
    "from pyspark.sql.types import FloatType\n",
    "from pyspark.sql import SparkSession\n",
    "from pyspark import SparkContext\n",
    "\n",
    "spark = SparkSession.builder.getOrCreate()"
   ]
  },
  {
   "cell_type": "markdown",
   "metadata": {},
   "source": [
    "### Task A: Convert the dataset to a more convenient format\n",
    "As a warm-up task (and to avoid to warm up your laptop too much), load the dataset into a Spark dataframe, show the content, and save it in the _Parquet_ format. Use this step to convert the fields to a more convenient form.\n",
    "\n",
    "Answer the following questions:\n",
    "\n",
    "1. How many questions have been asked on StackOverflow?\n",
    "2. How many answers have been given?\n",
    "3. What is the percentage of questions with a score of 0?\n",
    "\n",
    "**Hint:** The next tasks involve a time difference. Consider storing time in numeric format."
   ]
  },
  {
   "cell_type": "markdown",
   "metadata": {},
   "source": [
    "#### Task A:"
   ]
  },
  {
   "cell_type": "markdown",
   "metadata": {},
   "source": [
    "1. First of all, we save the Spark dataframe in parquet format and use SQL command to filter ```dataframe``` where ```PostTypeId == 1``` and get the number of question ```num_question ```. \n",
    "2. Using the same method, we get the number of answers ```num_question ``` where  ```PostTypeId == 2```. \n",
    "3. Then we count the number of questions with score of 0 where ```PostTypeId == 1 and Score == 0``` to get the percentage of the 0 score by ```num_score_0.count() / num_question.count()```. "
   ]
  },
  {
   "cell_type": "code",
   "execution_count": null,
   "metadata": {},
   "outputs": [],
   "source": [
    "# Read the dataframe\n",
    "file_path = './data/Posts.json'\n",
    "df_post = spark.read.json(file_path)"
   ]
  },
  {
   "cell_type": "code",
   "execution_count": null,
   "metadata": {},
   "outputs": [],
   "source": [
    "# Save the dataframe in Parquet format\n",
    "df_post.write.mode('overwrite').parquet('Posts.parquet')"
   ]
  },
  {
   "cell_type": "code",
   "execution_count": 2,
   "metadata": {},
   "outputs": [],
   "source": [
    "# Read the Parquet\n",
    "parquet_post = spark.read.parquet('Posts.parquet')"
   ]
  },
  {
   "cell_type": "code",
   "execution_count": 3,
   "metadata": {},
   "outputs": [
    {
     "name": "stdout",
     "output_type": "stream",
     "text": [
      "+--------------------+--------+--------+----------+-----+--------------------+--------------------+---------+\n",
      "|        CreationDate|      Id|ParentId|PostTypeId|Score|                Tags|               Title|ViewCount|\n",
      "+--------------------+--------+--------+----------+-----+--------------------+--------------------+---------+\n",
      "|2017-08-17T16:20:...|45740344|45740224|         2|    0|                null|                null|     null|\n",
      "|2017-08-17T16:20:...|45740346|45739185|         2|    1|                null|                null|     null|\n",
      "|2017-08-17T16:20:...|45740348|    null|         1|    2|<flash><react-nat...|Is it possible to...|      143|\n",
      "+--------------------+--------+--------+----------+-----+--------------------+--------------------+---------+\n",
      "only showing top 3 rows\n",
      "\n"
     ]
    }
   ],
   "source": [
    "parquet_post.show(3)"
   ]
  },
  {
   "cell_type": "code",
   "execution_count": 4,
   "metadata": {},
   "outputs": [
    {
     "name": "stdout",
     "output_type": "stream",
     "text": [
      "The number of questrion asked in StackOverflow is 15647060\n",
      "The number of answers given in StackOverflow is 25192772\n",
      "The percentage of question with a score of 0 is 46.54%\n"
     ]
    }
   ],
   "source": [
    "# Use SQL statement in a tempory view \n",
    "parquet_post.createOrReplaceTempView('parquet_post')\n",
    "\n",
    "# The number of question asked in StackOverflow\n",
    "sql_questoin = 'SELECT * FROM parquet_post WHERE PostTypeId == 1 '\n",
    "num_question = spark.sql(sql_questoin)\n",
    "count_question = num_question.count()\n",
    "print('The number of questrion asked in StackOverflow is {:d}'\n",
    "                                  .format(num_question.count()))\n",
    "# The number of answers\n",
    "sql_answer = 'SELECT * FROM parquet_post WHERE PostTypeId == 2'\n",
    "num_answer = spark.sql(sql_answer)\n",
    "print('The number of answers given in StackOverflow is {:d}'\n",
    "                                  .format(num_answer.count()))\n",
    "\n",
    "# The percentage of questions with a score of 0\n",
    "sql_score_0 = 'SELECT *FROM parquet_post WHERE PostTypeId == 1\\\n",
    "                                           AND Score == 0 '\n",
    "num_score_0 = spark.sql(sql_score_0)\n",
    "print('The percentage of question with a score of 0 is {:0.2f}%'\n",
    "                .format(100*num_score_0.count()/count_question))"
   ]
  },
  {
   "cell_type": "markdown",
   "metadata": {},
   "source": [
    "**Hint:** Load the dataset from the Parquet file for the next tasks."
   ]
  },
  {
   "cell_type": "markdown",
   "metadata": {},
   "source": [
    "### Task B: What are the 10 most popular tags?\n",
    "\n",
    "What are the most popular tags in StackOverflow? Use Spark to extract the information you need, and answer the following questions with Pandas and Matplotlib (or Seaborn):\n",
    "\n",
    "1. What is the proportion of tags that appear in fewer than 100 questions?\n",
    "2. Plot the distribution of the tag counts using an appropriate representation.\n",
    "3. Plot a bar chart with the number of questions for the 10 most popular tags.\n",
    "\n",
    "For each task describe your findings briefly."
   ]
  },
  {
   "cell_type": "markdown",
   "metadata": {},
   "source": [
    "#### Task B.1: What is the proportion of tags that appear in fewer than 100 questions?"
   ]
  },
  {
   "cell_type": "markdown",
   "metadata": {},
   "source": [
    "1. Firstly, we substring each row of Column ```Tags``` from ```sencond to last second``` alphabet by using our own defined ```UDF``` function.\n",
    "2. Then we use ```f.split``` function to split the tag by ```'><'``` and get the each element of splitted array by ```f.posexplode``` function."
   ]
  },
  {
   "cell_type": "code",
   "execution_count": 5,
   "metadata": {},
   "outputs": [],
   "source": [
    "# Use SQL statement in a tempory view \n",
    "parquet_post.createOrReplaceTempView('parquet_post')\n",
    "\n",
    "# Select Tags from question \n",
    "sql_tags = 'SELECT Tags FROM parquet_post WHERE PostTypeId == 1'\n",
    "tags = spark.sql(sql_tags)"
   ]
  },
  {
   "cell_type": "code",
   "execution_count": 6,
   "metadata": {},
   "outputs": [
    {
     "name": "stdout",
     "output_type": "stream",
     "text": [
      "+---------------------------------+-------------------------------+\n",
      "|Tags                             |substr                         |\n",
      "+---------------------------------+-------------------------------+\n",
      "|<flash><react-native>            |flash><react-native            |\n",
      "|<postgresql><formatting><plpgsql>|postgresql><formatting><plpgsql|\n",
      "+---------------------------------+-------------------------------+\n",
      "only showing top 2 rows\n",
      "\n"
     ]
    }
   ],
   "source": [
    "# Extract string from sencond to last second\n",
    "udf1 = udf(lambda x:x[1:-1], StringType())\n",
    "tags = tags.withColumn('substr',udf1('Tags'))\n",
    "tags.show(2,False)"
   ]
  },
  {
   "cell_type": "code",
   "execution_count": 7,
   "metadata": {},
   "outputs": [
    {
     "name": "stdout",
     "output_type": "stream",
     "text": [
      "+---------------------------------+---+------------+\n",
      "|letter                           |pos|val         |\n",
      "+---------------------------------+---+------------+\n",
      "|[flash, react-native]            |0  |flash       |\n",
      "|[flash, react-native]            |1  |react-native|\n",
      "|[postgresql, formatting, plpgsql]|0  |postgresql  |\n",
      "|[postgresql, formatting, plpgsql]|1  |formatting  |\n",
      "|[postgresql, formatting, plpgsql]|2  |plpgsql     |\n",
      "+---------------------------------+---+------------+\n",
      "only showing top 5 rows\n",
      "\n"
     ]
    }
   ],
   "source": [
    "# Split by '><' and get the tags, seperate tags are in 'val' column\n",
    "tags_ravel = tags.select(\n",
    "            f.split(\"substr\", \"><\").alias(\"letter\"),\n",
    "            f.posexplode(f.split(\"substr\", \"><\")).alias(\"pos\", \"val\"))\n",
    "tags_ravel.show(5,False)"
   ]
  },
  {
   "cell_type": "markdown",
   "metadata": {},
   "source": [
    "Then we calculate the proportion of tags that appear in fewer than 100 questions."
   ]
  },
  {
   "cell_type": "code",
   "execution_count": 8,
   "metadata": {},
   "outputs": [
    {
     "name": "stdout",
     "output_type": "stream",
     "text": [
      "The proportion of tags that appear in fewer than 100 questions is : 67.979%\n"
     ]
    }
   ],
   "source": [
    "# Calulate the proportion\n",
    "tag_count = tags_ravel.groupBy('val').count()\n",
    "proportion = tag_count.filter('count < 100').count()/tag_count.count()\n",
    "print(\"The proportion of tags that appear in fewer than 100 questions is : {p:.3f}%\".format(p= 100*proportion))"
   ]
  },
  {
   "cell_type": "markdown",
   "metadata": {},
   "source": [
    "#### Task B.2: Plot the distribution of the tag counts using an appropriate representation."
   ]
  },
  {
   "cell_type": "markdown",
   "metadata": {},
   "source": [
    "1. We sort the the spark dataframe by the number of tags and convert it to pandas.\n",
    "2. Then we plot distribution of the tag counts in ```histogram```, ```histogram in log-log scale```, and ```cumulative count histogram```.\n",
    "3. It is obvious that the distribution of counts is heavy-tailed and its log-log scale and cumulative style can help us to see clearly the relationship between the variables."
   ]
  },
  {
   "cell_type": "code",
   "execution_count": 9,
   "metadata": {},
   "outputs": [],
   "source": [
    "tag_count = tag_count.sort('count',ascending = False).cache()"
   ]
  },
  {
   "cell_type": "code",
   "execution_count": 10,
   "metadata": {},
   "outputs": [],
   "source": [
    "# Convert Spark datadrame to panda dataframe\n",
    "pd_tag_count = tag_count.toPandas()"
   ]
  },
  {
   "cell_type": "markdown",
   "metadata": {},
   "source": [
    "Plot the typical histogram."
   ]
  },
  {
   "cell_type": "code",
   "execution_count": 11,
   "metadata": {},
   "outputs": [
    {
     "data": {
      "image/png": "[encoded data removed]",
      "text/plain": [
       "<matplotlib.figure.Figure at 0x10ed05978>"
      ]
     },
     "metadata": {},
     "output_type": "display_data"
    }
   ],
   "source": [
    "plt.figure(figsize=(15,6))\n",
    "tags_counts_log, bin_edges, patches = plt.hist(pd_tag_count['count'],bins= 100)\n",
    "plt.xlabel('The number of the tag')\n",
    "plt.ylabel('Count')\n",
    "plt.title('Counts Histogram')\n",
    "plt.show()"
   ]
  },
  {
   "cell_type": "markdown",
   "metadata": {},
   "source": [
    "Plot the log-log scale histogram."
   ]
  },
  {
   "cell_type": "code",
   "execution_count": 12,
   "metadata": {},
   "outputs": [
    {
     "data": {
      "image/png": "[encoded data removed]",
      "text/plain": [
       "<matplotlib.figure.Figure at 0x10ea6e978>"
      ]
     },
     "metadata": {},
     "output_type": "display_data"
    }
   ],
   "source": [
    "# the median of each bin\n",
    "plt.figure(figsize=(15,6))\n",
    "bin_centers = 0.5*(bin_edges[1:]+bin_edges[:-1])\n",
    "plt.loglog(bin_centers,tags_counts_log,'-')\n",
    "plt.xlabel('The number of the tag (log scale)')\n",
    "plt.ylabel('Count (log scale)')\n",
    "plt.title('Counts Histogram')\n",
    "plt.show()"
   ]
  },
  {
   "cell_type": "markdown",
   "metadata": {},
   "source": [
    "Plot the cumulative histogram."
   ]
  },
  {
   "cell_type": "code",
   "execution_count": 13,
   "metadata": {
    "scrolled": false
   },
   "outputs": [
    {
     "data": {
      "image/png": "[encoded data removed]",
      "text/plain": [
       "<matplotlib.figure.Figure at 0x10e2dd5c0>"
      ]
     },
     "metadata": {},
     "output_type": "display_data"
    }
   ],
   "source": [
    "# get the counts of tags' counts\n",
    "tag_value_counts = pd_tag_count[\"count\"].value_counts()\n",
    "\n",
    "# sort the counts and get the cumulative value\n",
    "sorted_tag_value_counts    = tag_value_counts.sort_index()\n",
    "cumulative_tag_value_counts= np.cumsum(sorted_tag_value_counts)[::-1]\n",
    "\n",
    "# plot\n",
    "plt.figure(figsize=(15,6))\n",
    "plt.loglog(sorted_tag_value_counts.index,cumulative_tag_value_counts,'-')\n",
    "plt.xlabel('The number of the tag (log scale)')\n",
    "plt.ylabel('Cumulative Count(log scale)')\n",
    "plt.title('Cumulative Counts Histogram')\n",
    "plt.show()"
   ]
  },
  {
   "cell_type": "markdown",
   "metadata": {},
   "source": [
    "⬆From the figures above, we know that:\n",
    "1. There are a few tags (described by Count in figures) that have a extremely large numbers (more than 1600000) while most other tags have a amount less than 200000, which makes the Barplot 'Counts Histogram' almost accumulate in left side.\n",
    "2. The scale looks better if we use log-log plot. In the left part of the log-log figure (the number of tag is less than ${10}^{5}$), we can see the figure approximate to a line, which means it closes to a power distribution when the number of tag less than ${10}^{5}$."
   ]
  },
  {
   "cell_type": "markdown",
   "metadata": {},
   "source": [
    "#### Task B.3: Plot a bar chart with the number of questions for the 10 most popular tags."
   ]
  },
  {
   "cell_type": "markdown",
   "metadata": {},
   "source": [
    "Simply plot the number of questions for the 10 most popular tags in sorted tag_count panda dataftrame by using ```sns.barplot```."
   ]
  },
  {
   "cell_type": "code",
   "execution_count": 14,
   "metadata": {},
   "outputs": [
    {
     "data": {
      "image/png": "[encoded data removed]",
      "text/plain": [
       "<matplotlib.figure.Figure at 0x10e204dd8>"
      ]
     },
     "metadata": {},
     "output_type": "display_data"
    }
   ],
   "source": [
    "# Get the 10 most popular tags\n",
    "pop_tags= pd_tag_count.loc[:9]\n",
    "\n",
    "# Barplot\n",
    "plt.figure(figsize=(15,6))\n",
    "sns.barplot(x=\"val\",y=\"count\",data=pop_tags)\n",
    "plt.xlabel('10 most popular tags')\n",
    "plt.ylabel('Count')\n",
    "plt.title('Count of the 10 most popular tags')\n",
    "plt.show()"
   ]
  },
  {
   "cell_type": "markdown",
   "metadata": {},
   "source": [
    "### Task C: View-score relation\n",
    "\n",
    "We want to investigate the correlation between the view count and the score of questions.\n",
    "\n",
    "1. Get the view count and score of the questions with tag ```random-effects``` and visualize the relation between these two variables using an appropriate plot.\n",
    "2. Are these two variables correlated? Use the Pearson coefficient to validate your hypothesis. Discuss your findings in detail.\n",
    "\n",
    "**Hint:** Inspect the data visually before drawing your conclusions."
   ]
  },
  {
   "cell_type": "markdown",
   "metadata": {},
   "source": [
    "#### Task C.1 Get the view count and score of the questions with tag random-effects and visualize the relation between these two variables "
   ]
  },
  {
   "cell_type": "markdown",
   "metadata": {},
   "source": [
    "1. We filter the question (which are represented as ```PostTypedId == 1``` in the data-set);\n",
    "2. We extract the tags with ```random-effects``` by using ```f.like```."
   ]
  },
  {
   "cell_type": "code",
   "execution_count": 15,
   "metadata": {},
   "outputs": [
    {
     "name": "stdout",
     "output_type": "stream",
     "text": [
      "+---------+-----+\n",
      "|Viewcount|Score|\n",
      "+---------+-----+\n",
      "|12       |0    |\n",
      "|495      |0    |\n",
      "|220      |0    |\n",
      "+---------+-----+\n",
      "only showing top 3 rows\n",
      "\n"
     ]
    }
   ],
   "source": [
    "# Filter out the tags like 'random-effects' in question  \n",
    "df_random_effects = parquet_post.where((f.col('PostTypeId') == 1) & (f.col('Tags').like('%<random-effects>%'))).cache()\n",
    "\n",
    "# Select columns 'Viewcount','Score'\n",
    "Viewcount_score =  df_random_effects.select(['Viewcount','Score'])\n",
    "Viewcount_score.show(3,False)"
   ]
  },
  {
   "cell_type": "code",
   "execution_count": 16,
   "metadata": {},
   "outputs": [
    {
     "data": {
      "image/png": "[encoded data removed]",
      "text/plain": [
       "<matplotlib.figure.Figure at 0x10e07b5f8>"
      ]
     },
     "metadata": {},
     "output_type": "display_data"
    }
   ],
   "source": [
    "# Convert to pandas dataframe\n",
    "df_view_score = Viewcount_score.toPandas()\n",
    "data_plot = df_view_score.values\n",
    "\n",
    "# Plot\n",
    "plt.figure(figsize=(15,6))\n",
    "plt.scatter(data_plot[:,0],data_plot[:,1])\n",
    "plt.xlabel('View count')\n",
    "plt.ylabel('Score')\n",
    "plt.title('Relationship between viewcount and score')\n",
    "plt.show()"
   ]
  },
  {
   "cell_type": "markdown",
   "metadata": {},
   "source": [
    "⬆From the scatter figure, we can see that:\n",
    "1. most points acumulate in left corner and only two points have very large Viewcount values and Socre.\n",
    "2. We could not see a strong linear relation between Viewcount and Score since the sactters are random and disordered."
   ]
  },
  {
   "cell_type": "markdown",
   "metadata": {},
   "source": [
    "#### Task C.2 Are these two variables correlated? Use the Pearson coefficient to validate your hypothesis. Discuss your findings in detail."
   ]
  },
  {
   "cell_type": "code",
   "execution_count": 17,
   "metadata": {
    "scrolled": true
   },
   "outputs": [
    {
     "name": "stdout",
     "output_type": "stream",
     "text": [
      "The Pearson coeffient of these two variables is 0.88\n"
     ]
    },
    {
     "data": {
      "text/html": [
       "<div>\n",
       "<style scoped>\n",
       "    .dataframe tbody tr th:only-of-type {\n",
       "        vertical-align: middle;\n",
       "    }\n",
       "\n",
       "    .dataframe tbody tr th {\n",
       "        vertical-align: top;\n",
       "    }\n",
       "\n",
       "    .dataframe thead th {\n",
       "        text-align: right;\n",
       "    }\n",
       "</style>\n",
       "<table border=\"1\" class=\"dataframe\">\n",
       "  <thead>\n",
       "    <tr style=\"text-align: right;\">\n",
       "      <th></th>\n",
       "      <th>Viewcount</th>\n",
       "      <th>Score</th>\n",
       "    </tr>\n",
       "  </thead>\n",
       "  <tbody>\n",
       "    <tr>\n",
       "      <th>Viewcount</th>\n",
       "      <td>1.000000</td>\n",
       "      <td>0.882197</td>\n",
       "    </tr>\n",
       "    <tr>\n",
       "      <th>Score</th>\n",
       "      <td>0.882197</td>\n",
       "      <td>1.000000</td>\n",
       "    </tr>\n",
       "  </tbody>\n",
       "</table>\n",
       "</div>"
      ],
      "text/plain": [
       "           Viewcount     Score\n",
       "Viewcount   1.000000  0.882197\n",
       "Score       0.882197  1.000000"
      ]
     },
     "execution_count": 17,
     "metadata": {},
     "output_type": "execute_result"
    }
   ],
   "source": [
    "print(\"The Pearson coeffient of these two variables is {:0.2f}\".format(df_view_score.corr().iloc[0,1]))\n",
    "df_view_score.corr()"
   ]
  },
  {
   "cell_type": "markdown",
   "metadata": {},
   "source": [
    "⬆From above, we can conclude that: \n",
    "1. The Pearson coeffient of these two variables is 0.88 (>0.7), which means that these two variables have strong linear relation in pearson view. \n",
    "2. However, when we look at the scatter plot above, it is shown that there is no obvious linear relationship between these two variables. \n",
    "3. Therefore, we can confirm that these two variables are not correlated and the pearson coeffient give us a spurious correlations."
   ]
  },
  {
   "cell_type": "markdown",
   "metadata": {},
   "source": [
    "### Task D: What are the tags with the fastest first answer?\n",
    "\n",
    "What are the tags that have the fastest response time from the community? We define the response time as the difference in seconds between the timestamps of the question and of the first answer received.\n",
    "\n",
    "1. Get the response time for the first answer of the questions with the tags ```python``` and ```java```.\n",
    "2. Plot the two distributions in an appropriate format. What do you observe? Describe your findings and discuss the following distribution properties: mean, median, standard deviation.\n",
    "3. We believe that the response time is lower for questions related to Python. Contradict or confirm this assumption by estimating the proper statistic with bootstrapping. Visualize the 95% confidence intervals with box plots and describe your findings.\n",
    "3. Repeat the first analysis (D1) by using the proper statistic to measure the response time for the tags that appear at least 5000 times. Plot the distribution of the 10 tags with the fastest response time.\n"
   ]
  },
  {
   "cell_type": "markdown",
   "metadata": {},
   "source": [
    "#### Taks D.1 Get the response time for the first answer of the questions with the tags python and java."
   ]
  },
  {
   "cell_type": "markdown",
   "metadata": {},
   "source": [
    "For Tag ```python```:\n",
    "1. We firstly filter question with tags pyhton by using ```PostTypeId == 1``` and ``` f.col('Tags').like('%<python>%')```, and filter answer by using```f.col('PostTypeId') == 2```.\n",
    "2. we inner join the question dataframe and answer dataframe when ```answer.ParentId == question.Id``` to get a joined dataframe (```python_q_a```) consisting information of questions and answers.\n",
    "3. we convert the ```CreationDate``` of question and the ```CreationDate``` of answer into ```seconds``` by ```f.unix_timestamp```, and compute the difference of time to get the response time.\n",
    "4. At last, we group according to ```ParentId``` and aggregate the fastest response by finding ```minimun``` value of the response time for each ParentId."
   ]
  },
  {
   "cell_type": "code",
   "execution_count": 18,
   "metadata": {
    "scrolled": true
   },
   "outputs": [
    {
     "name": "stdout",
     "output_type": "stream",
     "text": [
      "+--------+-------------+\n",
      "|ParentId|Response time|\n",
      "+--------+-------------+\n",
      "| 3211079|    246457525|\n",
      "| 4190667|    226585265|\n",
      "| 4913561|    226468012|\n",
      "| 4746726|    222563291|\n",
      "| 5212950|    222405003|\n",
      "+--------+-------------+\n",
      "only showing top 5 rows\n",
      "\n"
     ]
    }
   ],
   "source": [
    "# Filter question and tags 'python', we use 'like' function to filter them out\n",
    "python_question = parquet_post.where((f.col('PostTypeId') == 1) & (f.col('Tags').like('%<python>%'))).cache()\n",
    "\n",
    "# Filter answer\n",
    "python_answer = parquet_post.where((f.col('PostTypeId') == 2)).cache()\n",
    "    \n",
    "# Selcet interested columns 'CreationDate','Id','ParentId','Tags'\n",
    "python_a = python_answer.select(['CreationDate','Id','ParentId','Tags']).cache()\n",
    "\n",
    "# Rename columns names for dataframe 'question'\n",
    "python_q = python_question.select(f.col('CreationDate')\\\n",
    "                          .alias('CreationDate_q'),f.col('Id')\\\n",
    "                          .alias('Id_q'), f.col('Tags')\\\n",
    "                          .alias('Tags_q'))\n",
    "\n",
    "# Inner join the question with answer dataframe when answer.ParentId == question.Id\n",
    "python_q_a = python_a.join(python_q, python_a.ParentId == python_q.Id_q).cache()\n",
    "\n",
    "timeFmt = \"yyyy-MM-dd'T'HH:mm:ss.SSSXXX\"\n",
    "\n",
    "# Convert the timestamp into second and compute the difference of time\n",
    "timeDiff = (f.unix_timestamp('CreationDate', format=timeFmt)\n",
    "            - f.unix_timestamp('CreationDate_q', format=timeFmt))\n",
    "\n",
    "# Add a column to store the difference of time\n",
    "python_q_a = python_q_a.withColumn('Time_diff',timeDiff )\n",
    "\n",
    "# For each question, match their first response time \n",
    "python_time_diff = python_q_a.groupBy(f.col('ParentId'))\\\n",
    "                             .agg(f.min('Time_diff')\n",
    "                             .alias('Response time'))\\\n",
    "                             .sort('Response time', ascending = False)\\\n",
    "                             .cache()\n",
    "\n",
    "python_time_diff.show(5)"
   ]
  },
  {
   "cell_type": "markdown",
   "metadata": {},
   "source": [
    "For Tag ```java``` , in the same way:\n",
    "1. We firstly filter question with tags pyhton by using ```PostTypeId == 1``` and ``` f.col('Tags').like('%<java>%')```, and filter answer by using```f.col('PostTypeId') == 2```.\n",
    "2. We inner join the question dataframe and answer dataframe when ```answer.ParentId == question.Id``` to get a joined dataframe ```python_q_a```.\n",
    "3. We convert the ```CreationDate``` of question and the CreationDate of answer into ```seconds``` by ```f.unix_timestamp```, and compute the difference of time to get the response time.\n",
    "4. At last, we ```groupby``` columns```ParentId``` and aggregate by finding ```minimun``` value of the response time for each ParentId."
   ]
  },
  {
   "cell_type": "code",
   "execution_count": 19,
   "metadata": {
    "scrolled": true
   },
   "outputs": [
    {
     "name": "stdout",
     "output_type": "stream",
     "text": [
      "+--------+-------------+\n",
      "|ParentId|Response time|\n",
      "+--------+-------------+\n",
      "|  545047|    298536705|\n",
      "|  320049|    275219195|\n",
      "| 2043532|    264006756|\n",
      "| 1458393|    254851846|\n",
      "| 2674135|    246315763|\n",
      "+--------+-------------+\n",
      "only showing top 5 rows\n",
      "\n"
     ]
    }
   ],
   "source": [
    "# Filter question and tags 'java', we use 'like' function to filter them out\n",
    "java_question = parquet_post.where((f.col('PostTypeId') == 1) & (f.col('Tags').like('%<java>%'))).cache()\n",
    "\n",
    "# Filter answer\n",
    "java_answer = parquet_post.where((f.col('PostTypeId') == 2)).cache()\n",
    "\n",
    "# Selcet interested columns 'CreationDate','Id','ParentId','Tags'\n",
    "java_a = java_answer.select(['CreationDate','Id','ParentId','Tags']).cache()\n",
    "\n",
    "# Rename columns names for dataframe 'question'\n",
    "java_q   =   java_question.select(f.col('CreationDate')\\\n",
    "                          .alias('CreationDate_q'), f.col('Id')\\\n",
    "                          .alias('Id_q'), f.col('Tags')\\\n",
    "                          .alias('Tags_q'))\n",
    "\n",
    "# Inner join the question with answer dataframe when answer.ParentId == question.Id\n",
    "java_q_a = java_a.join(java_q, java_a.ParentId == java_q.Id_q).cache()\n",
    "\n",
    "# Add a column to store the difference of time\n",
    "java_q_a = java_q_a.withColumn('Time_diff',timeDiff )\n",
    "\n",
    "# For each question, match their first response time \n",
    "java_time_diff = java_q_a.groupBy(f.col('ParentId'))\\\n",
    "                         .agg(f.min('Time_diff')\n",
    "                         .alias('Response time'))\\\n",
    "                         .sort('Response time', ascending = False)\\\n",
    "                         .cache()\n",
    "\n",
    "java_time_diff.show(5)"
   ]
  },
  {
   "cell_type": "markdown",
   "metadata": {},
   "source": [
    "#### Task D.2 Plot the two distributions in an appropriate format. What do you observe? Describe your findings and discuss the following distribution properties: mean, median, standard deviation."
   ]
  },
  {
   "cell_type": "code",
   "execution_count": 20,
   "metadata": {},
   "outputs": [],
   "source": [
    "# Convert to panda dataframe\n",
    "pd_python = python_time_diff.toPandas()\n",
    "pd_java = java_time_diff.toPandas()\n",
    "\n",
    "# Filter out the response time < 0\n",
    "plot_python = pd_python[pd_python.iloc[:,1]>0]\n",
    "plot_java   = pd_java[pd_java.iloc[:,1]>0]"
   ]
  },
  {
   "cell_type": "markdown",
   "metadata": {},
   "source": [
    "We use log-log scale to plot the distribution for these two tags as their counts are shown in the power-law distribution in the origin histogram."
   ]
  },
  {
   "cell_type": "markdown",
   "metadata": {},
   "source": [
    "For Tag ```python```: "
   ]
  },
  {
   "cell_type": "code",
   "execution_count": 21,
   "metadata": {},
   "outputs": [
    {
     "data": {
      "image/png": "[encoded data removed]",
      "text/plain": [
       "<matplotlib.figure.Figure at 0x108354eb8>"
      ]
     },
     "metadata": {},
     "output_type": "display_data"
    }
   ],
   "source": [
    "ax = plot_python['Response time'].plot(kind=\"hist\",bins=10)\n",
    "ax.set_yscale('log')\n",
    "plt.xlabel('Response time ')\n",
    "plt.ylabel('Count')\n",
    "plt.title('Count of reponse time for Tag python')\n",
    "plt.show()"
   ]
  },
  {
   "cell_type": "markdown",
   "metadata": {},
   "source": [
    "⬆ From the figure, we know that:\n",
    "1. The distribution is shown that there are a lot of answers shown in a very short time. \n",
    "2. It drops sharply around 0.25 and the counts of response in a long time are extremely few."
   ]
  },
  {
   "cell_type": "code",
   "execution_count": 22,
   "metadata": {},
   "outputs": [
    {
     "data": {
      "text/plain": [
       "count    8.278480e+05\n",
       "mean     9.837172e+05\n",
       "std      6.908426e+06\n",
       "min      1.000000e+00\n",
       "25%      4.250000e+02\n",
       "50%      1.357000e+03\n",
       "75%      9.583000e+03\n",
       "max      2.464575e+08\n",
       "Name: Response time, dtype: float64"
      ]
     },
     "execution_count": 22,
     "metadata": {},
     "output_type": "execute_result"
    }
   ],
   "source": [
    "# show the mean, median, standard deviation of the counts of tags of python using describe()\n",
    "plot_python.iloc[:,1].describe()"
   ]
  },
  {
   "cell_type": "markdown",
   "metadata": {},
   "source": [
    "⬆ As shown above:\n",
    "1. The mean of the counts of python's questions is $9.837172 \\times 10^5$ while the median is $1.357 \\times 10^3$ which is much smaller. \n",
    "2. And the stadard deviation is $6.908426 \\times 10^6$, which indicates that the difference of counts is large or the ouliers have a strong influence on the statistic."
   ]
  },
  {
   "cell_type": "markdown",
   "metadata": {},
   "source": [
    "For Tag ```java```:"
   ]
  },
  {
   "cell_type": "code",
   "execution_count": 23,
   "metadata": {},
   "outputs": [
    {
     "data": {
      "image/png": "[encoded data removed]",
      "text/plain": [
       "<matplotlib.figure.Figure at 0x10e14d6d8>"
      ]
     },
     "metadata": {},
     "output_type": "display_data"
    }
   ],
   "source": [
    "ax = plot_java['Response time'].plot(kind=\"hist\",bins=10)\n",
    "ax.set_yscale('log')\n",
    "plt.xlabel('Response time ')\n",
    "plt.ylabel('Count')\n",
    "plt.title('Count of reponse time for Tag java')\n",
    "plt.show()"
   ]
  },
  {
   "cell_type": "markdown",
   "metadata": {},
   "source": [
    "⬆  From the figure, we know that:\n",
    "1. The distribution is shown similar to that of python.There are also a lot of answers shown in a very short time while the counts of response in a long time are extremely few. \n",
    "2. The sharp drop also appear around 0.25. But the figure of longest response time seem to be much larger than that of python."
   ]
  },
  {
   "cell_type": "code",
   "execution_count": 24,
   "metadata": {},
   "outputs": [
    {
     "data": {
      "text/plain": [
       "count    1.176818e+06\n",
       "mean     9.988756e+05\n",
       "std      7.133064e+06\n",
       "min      1.000000e+00\n",
       "25%      3.960000e+02\n",
       "50%      1.224000e+03\n",
       "75%      9.615000e+03\n",
       "max      2.985367e+08\n",
       "Name: Response time, dtype: float64"
      ]
     },
     "execution_count": 24,
     "metadata": {},
     "output_type": "execute_result"
    }
   ],
   "source": [
    "# show the mean, median, standard deviation of the counts of tags of python using describe()\n",
    "plot_java.iloc[:,1].describe()"
   ]
  },
  {
   "cell_type": "markdown",
   "metadata": {},
   "source": [
    "⬆ As shown above:\n",
    "1. The mean of the counts of java's tags is very large ($9.988756 \\times 10^5$) while the median is much smaller($1.224000 \\times 10^3$). \n",
    "2. The standrad deviation is also very large, which also indicates that the difference of the counts is very large  or the ouliers have a strong influence on the statistic. \n",
    "3. We can also see that the mean and stardard variance of response time of queations related to Java is higher than that of Python  while the median is smaller."
   ]
  },
  {
   "cell_type": "markdown",
   "metadata": {},
   "source": [
    "#### Task D.3 We believe that the response time is lower for questions related to Python. Contradict or confirm this assumption by estimating the proper statistic with bootstrapping. Visualize the 95% confidence intervals with box plots and describe your findings."
   ]
  },
  {
   "cell_type": "markdown",
   "metadata": {},
   "source": [
    "We want to confirm the assumption (the response time is lower for questions related to Python), that is to say, we want to contradict the opposite assumption (the response time is faster or equal to questions related to Python), so we set the null Hypothesis is latter, and the test Hypothesis is former.<br/>\n",
    "<br/>\n",
    "$H_0$: the response time is faster or equal to questions related to Python<br/>\n",
    "$H_1$: the response time is lower for questions related to Python\n",
    "\n",
    "We define the set of Python is $X$ and the set of Java is $Y$.<br/>\n",
    "As the mean of $X$ and $Y$ is bias, so we use median( denoted as $\\theta$ ) to measure the response time of the Python's set( $\\theta_0$ ) and the Java's set( $\\theta_1$ ), i.e.:<br/><br/>\n",
    "<center>\n",
    "    $H_0$ : $\\theta_0 \\geq \\theta_1$<br/>\n",
    "    $H_1$ : $\\theta_0 < \\theta_1$\n",
    "</center>\n",
    "\n",
    "We do the Hypothesis Boostrapping in the following step:<br/>\n",
    "1. Calculate the test statistic ${\\displaystyle t=\\theta_0 -\\theta_1}$ \n",
    "2. Draw a random sample ( ${\\displaystyle x_{i}^{*}}$ ) of size ${\\displaystyle n}$  with replacement from ${\\displaystyle x_{i}}$ and another random sample ( ${\\displaystyle y_{i}^{*}}$ ) of size ${\\displaystyle m}$ with replacement from ${\\displaystyle y_{i}}$.\n",
    "3. Calculate the median of new data set ${\\displaystyle x^{*}}$ as  $\\theta_0^{*}$ and ${\\displaystyle y^{*}}$ as  $\\theta_1^{*}$\n",
    "4. Calculate the test statistic ${\\displaystyle t^{*}=\\theta_0^{*} - \\theta_1^{*}} $\n",
    "5. Repeat 3 and 4 ${\\displaystyle B}$ times ( ${\\displaystyle B=10000}$ in this case) to collect ${\\displaystyle B}$ values of the test statistic.<br/>\n",
    "6. We need to calculate the lowerbound of the p-value<br/>\n",
    "Estimate the p-value as ${\\displaystyle p={\\frac {\\#\\{t^{*} < -t\\} +1}{B+1}}}$ (According to what is said by  [Rick Wicklin](https://blogs.sas.com/content/iml/2011/11/02/how-to-compute-p-values-for-a-bootstrap-distribution.html), to eliminate the bias due to the finite sampling, we add one both on the numerator and denominator)"
   ]
  },
  {
   "cell_type": "code",
   "execution_count": 25,
   "metadata": {},
   "outputs": [
    {
     "name": "stdout",
     "output_type": "stream",
     "text": [
      "The median of python response time is 1357.0\n",
      "The median of java response time is 1224.0\n",
      "The size of python response time is : 827848\n",
      "The size of java response time is : 1176818\n",
      "The test statistic is 133.0\n"
     ]
    }
   ],
   "source": [
    "# define the X and Y set\n",
    "x=plot_python['Response time'].values\n",
    "y=plot_java['Response time'].values\n",
    "\n",
    "#compute the median of x and y\n",
    "x_mid=np.median(x)\n",
    "y_mid=np.median(y)\n",
    "print(\"The median of python response time is {m}\".format(m=x_mid))\n",
    "print(\"The median of java response time is {m}\".format(m=y_mid))\n",
    "\n",
    "# compute the size of set X and set Y\n",
    "m=len(x)\n",
    "print(\"The size of python response time is : {s}\".format(s=m))\n",
    "n=len(y)\n",
    "print(\"The size of java response time is : {s}\".format(s=n))\n",
    "\n",
    "t_statistic=x_mid-y_mid\n",
    "print(\"The test statistic is {t}\".format(t=t_statistic))"
   ]
  },
  {
   "cell_type": "code",
   "execution_count": 27,
   "metadata": {},
   "outputs": [],
   "source": [
    "def create_new_dataset(x_origin,n):\n",
    "    \"\"\"\n",
    "    Create a new data set for boostrapping.\n",
    "\n",
    "    :Argument:\n",
    "    param1 (x_origin): the original data-set\n",
    "    param2 (n): the size of the data-set\n",
    "\n",
    "    :Return: the new data-set (if the size of the new set is correct)\n",
    "            or\n",
    "            None (print out the error announcement)\n",
    "    \"\"\"\n",
    "    # randomly choose n samples from the original set with replacement\n",
    "    x_new=np.random.choice(x_origin,n)\n",
    "    if len(x_new)==n:\n",
    "        return x_new\n",
    "    else:\n",
    "        print(\"Create new dataset failed\")\n",
    "        print(len(x_new))\n",
    "\n",
    "def hypothesis_boostrapping(times):\n",
    "    \"\"\"\n",
    "    Do hypothesis boostrapping.\n",
    "    \n",
    "    :Argument:\n",
    "    param (times): the times of doing hypothesis boostrapping\n",
    "    \n",
    "    :Return: p-value\n",
    "             mid_diff : List of the median difference between python and java\n",
    "    \"\"\"\n",
    "    mid_diff=[]\n",
    "    t_cardinality=0\n",
    "    for i in range(times):\n",
    "#         print(\"{i}th-time :\".format(i=i+1))\n",
    "        # Create new data-set according to X and Y\n",
    "        x_new=create_new_dataset(x,m)\n",
    "        y_new=create_new_dataset(y,n)\n",
    "#         x_new=np.asarray(x_new)\n",
    "#         y_new=np.asarray(y_new)\n",
    "        # Compute the mean and variance of the new data-set\n",
    "        x_new_mid=np.median(x_new)\n",
    "        y_new_mid=np.median(y_new)\n",
    "        # Compute the new test satistic\n",
    "        t_star= x_new_mid - y_new_mid\n",
    "        mid_diff.append(t_star)\n",
    "#         print(\"t-star is : {t_s} while t is {t}\".format(t_s=t_star,t=t))\n",
    "        if (t_star < -t_statistic):\n",
    "            # If t-star satisfy the null hypothesis is true, add into the count set.\n",
    "            # This count set is for the culculation of the p-value\n",
    "            t_cardinality = t_cardinality+1\n",
    "#         print(\"t_cardinality is {c}\".format(c=t_cardinality))\n",
    "    p=(t_cardinality+1)/(times+1)\n",
    "    return p,mid_diff"
   ]
  },
  {
   "cell_type": "code",
   "execution_count": 29,
   "metadata": {},
   "outputs": [
    {
     "name": "stdout",
     "output_type": "stream",
     "text": [
      "p-value is 9.999000099990002e-05\n"
     ]
    }
   ],
   "source": [
    "# run the hypothesis boostrapping 10000 times.\n",
    "p,mid_diff=hypothesis_boostrapping(10000)\n",
    "print(\"p-value is {p}\".format(p=p))"
   ]
  },
  {
   "cell_type": "markdown",
   "metadata": {},
   "source": [
    "⬆From above, we know that:\n",
    "1. As we can see that the p-value is $9.999 \\times 10^{-5}$ which is lower than $\\alpha = .05$, we can reject the null hypothesis. \n",
    "2. Therefore, we can confirm the test hypothesis, which means that the response time related to Java is exactly lower for questions related to Python."
   ]
  },
  {
   "cell_type": "code",
   "execution_count": 30,
   "metadata": {},
   "outputs": [
    {
     "data": {
      "image/png": "[encoded data removed]",
      "text/plain": [
       "<matplotlib.figure.Figure at 0x1a25f67b00>"
      ]
     },
     "metadata": {},
     "output_type": "display_data"
    }
   ],
   "source": [
    "# plot the confidence interval\n",
    "plt.boxplot(mid_diff, whis=[5,100], labels =['median of samples'],sym='o')\n",
    "plt.show()"
   ]
  },
  {
   "cell_type": "markdown",
   "metadata": {},
   "source": [
    "⬆From the figure above, we know that:\n",
    "1. The difference between the median response time of Python and the median response time of Java (median(Python) - median(Java)) is at least more than 100.\n",
    "2. Most of the difference value of the median is between 124 to 153.\n",
    "3. Even the outliers are still larger than 0, which means that the response time related to Java is exactly lower for questions related to Python. And that is consistent with the very small p-value($9.999 \\times 10^{-5}$)"
   ]
  },
  {
   "cell_type": "markdown",
   "metadata": {},
   "source": [
    "#### Task D.4 Repeat the first analysis (D1) by using the proper statistic to measure the response time for the tags that appear at least 5000 times. Plot the distribution of the 10 tags with the fastest response time."
   ]
  },
  {
   "cell_type": "markdown",
   "metadata": {},
   "source": [
    "1. First of all, we inner join the spark dataframes of questions and answers using ```answer.ParentId == question.Id```.\n",
    "2. We convert the ```CreationDate``` of questions and the ```CreationDate``` of answers into ```seconds``` by ```unix_timestamp```, and compute the difference of time to get the response time. \n",
    "3. Calculate the shortest reponse time for each question.\n",
    "4. Then, we seperate the tags of questions as we did before and group questions according to these tags. We ```groupby``` columns```Tags``` and aggregate them by finding ```avg```  and ```median``` values of the response time for each Tags.\n",
    "5. Finally, we convert the data whose tags are ```larger than 5000``` to pandas dataframe and plot distribution."
   ]
  },
  {
   "cell_type": "code",
   "execution_count": 31,
   "metadata": {
    "scrolled": false
   },
   "outputs": [
    {
     "name": "stdout",
     "output_type": "stream",
     "text": [
      "+----------+--------+------------------+-----------+\n",
      "|      Tags|Tags_Num|      Average_time|Median_time|\n",
      "+----------+--------+------------------+-----------+\n",
      "|javascript| 1385837| 754539.2306591612|      968.0|\n",
      "|      java| 1179059| 997091.0639331874|     1218.0|\n",
      "|        c#| 1037397| 885841.1451170574|     1112.0|\n",
      "|       php|  998582| 766199.6645072713|      845.0|\n",
      "|   android|  902523|1713097.2613440321|     1629.0|\n",
      "+----------+--------+------------------+-----------+\n",
      "only showing top 5 rows\n",
      "\n"
     ]
    }
   ],
   "source": [
    "# inner join the spark dataframes of questions and answers \n",
    "parquet_Q = parquet_post.filter('PostTypeId = 1')\\\n",
    "                           .select('Id', 'Tags', parquet_post.CreationDate.alias('CreationDate_Q'))\n",
    "parquet_A = parquet_post.filter('PostTypeId = 2')\\\n",
    "                           .select('ParentId', parquet_post.CreationDate.alias('CreationDate_A'))\n",
    "parquet_QA = parquet_A.join(parquet_Q, parquet_A.ParentId==parquet_Q.Id).cache()\n",
    "# convert the CreationDate of question and the CreationDate of answer into seconds\n",
    "parquet_QA = parquet_QA.withColumn(\n",
    "    \"CreationDate_A\", unix_timestamp('CreationDate_A', \"yyyy-MM-dd'T'HH:mm:ss.SSSXXX\")).cache()\n",
    "parquet_QA = parquet_QA.withColumn(\n",
    "    \"CreationDate_Q\", unix_timestamp('CreationDate_Q', \"yyyy-MM-dd'T'HH:mm:ss.SSSXXX\")).cache()\n",
    "# compute the difference of time to get the response time\n",
    "parquet_QA = parquet_QA.withColumn('Response_time', parquet_QA.CreationDate_A - parquet_QA.CreationDate_Q) \n",
    "parquet_QA = parquet_QA.filter('Response_time >= 0')\n",
    "# calculate the shortest reponse time for each question\n",
    "parquet_QA = parquet_QA.groupBy('Id')\\\n",
    "                       .agg(min('Response_time').alias('Resp_time_min'))\n",
    "parquet_Q_temp = parquet_Q.select(parquet_Q.Id.alias('Id1'), 'Tags')\n",
    "parquet_QA = parquet_QA.join(parquet_Q_temp, parquet_QA.Id==parquet_Q_temp.Id1)\n",
    "parquet_QA = parquet_QA.select('Id', 'Resp_time_min', 'Tags')\n",
    "# seperate the tags of questions\n",
    "# use rdd.map to seperate the tags\n",
    "SOF_rdd_Tags = parquet_QA.rdd\\\n",
    "                         .map(lambda line:[line.Id, line.Resp_time_min, line.Tags.strip('<').strip('>').split('><')])\n",
    "# flatMap can make one input to several outputs\n",
    "SOF_rdd_Tags = SOF_rdd_Tags.flatMap(lambda line:[[line[0], line[1], tag] for tag in line[2]])\n",
    "# convert rdd back to dataframe\n",
    "SOF_Tags_df = SOF_rdd_Tags.toDF(['Id', 'Resp_time_min','Tags'])\n",
    "# here we use self-defined function to calculate median\n",
    "def median(values_list):\n",
    "    med = np.median(values_list)\n",
    "    return float(med)\n",
    "udf_median = f.udf(median, FloatType())\n",
    "SOF_Tags_df = SOF_Tags_df.groupBy('Tags')\\\n",
    "                         .agg(count('*').alias('Tags_Num'), \n",
    "                              avg('Resp_time_min').alias('Average_time'), \n",
    "                              udf_median(f.collect_list(col('Resp_time_min'))).alias('Median_time')).cache()\n",
    "# choose appear at least 5000 times\n",
    "SOF_Tags_df = SOF_Tags_df.filter('Tags_Num > 5000')\n",
    "SOF_Tags_df = SOF_Tags_df.sort('Tags_Num', ascending = False)\n",
    "SOF_Tags_df.show(5)"
   ]
  },
  {
   "cell_type": "markdown",
   "metadata": {},
   "source": [
    "Plot the distribution of Average_time and Median_time"
   ]
  },
  {
   "cell_type": "code",
   "execution_count": 32,
   "metadata": {
    "scrolled": false
   },
   "outputs": [
    {
     "data": {
      "text/plain": [
       "Text(0.5,1,'Distribution of 10 tags with the fastest median response time')"
      ]
     },
     "execution_count": 32,
     "metadata": {},
     "output_type": "execute_result"
    },
    {
     "data": {
      "image/png": "[encoded data removed]",
      "text/plain": [
       "<matplotlib.figure.Figure at 0x1a253f8390>"
      ]
     },
     "metadata": {},
     "output_type": "display_data"
    },
    {
     "data": {
      "image/png": "[encoded data removed]",
      "text/plain": [
       "<matplotlib.figure.Figure at 0x1a245ae908>"
      ]
     },
     "metadata": {},
     "output_type": "display_data"
    }
   ],
   "source": [
    "# Plot the distribution of Average_time and Median_time\n",
    "SOF_Tags_pd = SOF_Tags_df.toPandas()\n",
    "\n",
    "Tags_pd_avg = SOF_Tags_pd.sort_values(by= ['Average_time']).iloc[0:10]\n",
    "plt.figure(figsize=(15,6))\n",
    "sns.barplot(x='Tags',y='Average_time', data=Tags_pd_avg)\n",
    "plt.xlabel('Tags')\n",
    "plt.ylabel('Time')\n",
    "plt.title('Distribution of 10 tags with the fastest average response time')\n",
    "\n",
    "Tags_pd_Med = SOF_Tags_pd.sort_values(by= ['Median_time']).iloc[0:10]\n",
    "plt.figure(figsize=(15,6))\n",
    "sns.barplot(x='Tags',y='Median_time', data=Tags_pd_Med)\n",
    "plt.xlabel('Tags')\n",
    "plt.ylabel('Time')\n",
    "plt.title('Distribution of 10 tags with the fastest median response time')"
   ]
  },
  {
   "cell_type": "markdown",
   "metadata": {},
   "source": [
    "⬆From figures shown above, we know that:\n",
    "1. The fastest respones time calculated by taking the smallest average response time of each tag is significantly larger than that caculated by taking the smallest median response time.\n",
    "2. Because average response time will be influenced remarkably by some extreme values, such as extremely long response time of questions which have't been replied for several years. While median response time works much better for executing extreme values.\n",
    "3. Although both fastest average respones time and fastest median respones time can describe respones time in some ways, we prefer to use the fastest median respones time."
   ]
  },
  {
   "cell_type": "markdown",
   "metadata": {},
   "source": [
    "### Task E: What's up with PySpark?\n",
    "The number of questions asked regarding a specific topic reflect the public’s interest on it. We are interested on the popularity of PySpark. Compute and plot the number of questions with the ```pyspark``` tag for 30-day time intervals. Do you notice any trend over time? Is there any correlation between time and number of questions?\n"
   ]
  },
  {
   "cell_type": "markdown",
   "metadata": {},
   "source": [
    "1. First, we filter question where ```f.col('Tags').like('%<pyspark>%')```\n",
    "\n",
    "2. Then we convert columns CreationDate into ```seconds``` by ```f.unix_timestamp``` and convert it into ```days``` by ```f.floor(seconds/3600/24)```\n",
    "\n",
    "3. Next, we split days into every 30-days ```interval``` by ```f.floor((day-min(day))/30)```\n",
    "\n",
    "4. Finally, we ```groupby ``` interval and count same interval which represent the count of tag pyspark in this intervel"
   ]
  },
  {
   "cell_type": "code",
   "execution_count": 33,
   "metadata": {},
   "outputs": [
    {
     "name": "stdout",
     "output_type": "stream",
     "text": [
      "+-----+\n",
      "| days|\n",
      "+-----+\n",
      "|16183|\n",
      "|16289|\n",
      "|16345|\n",
      "+-----+\n",
      "only showing top 3 rows\n",
      "\n"
     ]
    }
   ],
   "source": [
    "# Filter question and tag like 'pyspark'\n",
    "tags_pyspark = parquet_post.where((f.col('PostTypeId') == 1) & (f.col('Tags').like('%<pyspark>%'))).cache()\n",
    "\n",
    "# Convert the 'CreationDate' into seconds then convert it into days by f.floor(seconds/3600/24)\n",
    "spark_day = tags_pyspark.withColumn('days',(f.floor(f.unix_timestamp('CreationDate',timeFmt)/3600/24)))\\\n",
    "                        .select('days')\\\n",
    "                        .sort('days')\\\n",
    "                        .cache()\n",
    "spark_day.show(3)"
   ]
  },
  {
   "cell_type": "code",
   "execution_count": 34,
   "metadata": {},
   "outputs": [
    {
     "name": "stdout",
     "output_type": "stream",
     "text": [
      "+--------+-----+\n",
      "|intervel|count|\n",
      "+--------+-----+\n",
      "|       0|    1|\n",
      "|       3|    1|\n",
      "|       5|    2|\n",
      "|       6|    6|\n",
      "|       7|    1|\n",
      "|       8|    6|\n",
      "|       9|   11|\n",
      "|      10|   28|\n",
      "|      11|   39|\n",
      "|      12|   57|\n",
      "|      13|   53|\n",
      "|      14|  122|\n",
      "|      15|  109|\n",
      "|      16|   99|\n",
      "|      17|  109|\n",
      "|      18|  119|\n",
      "|      19|  143|\n",
      "|      20|  109|\n",
      "|      21|  141|\n",
      "|      22|  191|\n",
      "+--------+-----+\n",
      "only showing top 20 rows\n",
      "\n"
     ]
    }
   ],
   "source": [
    "# Get the minimum day \n",
    "min_days = spark_day.select(f.min('days')).rdd.flatMap(lambda x: x).collect()[0]\n",
    "\n",
    "# Convert days into 30 days interval by f.floor((day-min(day))/30)\n",
    "spark_intervel = spark_day.withColumn('intervel',(f.floor((spark_day.days-min_days)/30)))\\\n",
    "                        .select('intervel')\\\n",
    "                        .sort('intervel')\\\n",
    "                        .cache() \n",
    "\n",
    "# Groupby 'interval' and count the interval\n",
    "intervel_ = spark_intervel.groupBy('intervel').count().sort('intervel').cache()\n",
    "intervel_.show(20)"
   ]
  },
  {
   "cell_type": "code",
   "execution_count": 35,
   "metadata": {},
   "outputs": [
    {
     "data": {
      "image/png": "[encoded data removed]",
      "text/plain": [
       "<matplotlib.figure.Figure at 0x1a2a57fef0>"
      ]
     },
     "metadata": {},
     "output_type": "display_data"
    },
    {
     "name": "stdout",
     "output_type": "stream",
     "text": [
      "The Peason coeffient of time and question count is 0.90\n"
     ]
    }
   ],
   "source": [
    "# Convert to pandas\n",
    "pd_intevel = intervel_.toPandas()\n",
    "\n",
    "# Fill the missing intervel[1, 2, 4] with 0\n",
    "size_ = pd_intevel.intervel.max()+1\n",
    "x = np.arange(size_)\n",
    "y = np.zeros(size_)\n",
    "y[pd_intevel.intervel.values] = pd_intevel['count'].values\n",
    "\n",
    "# Plot\n",
    "plt.figure(figsize=(15,6))\n",
    "plt.scatter(x,y)\n",
    "plt.xlabel('Intervals(30 days) ')\n",
    "plt.ylabel('The number of question with tag \"pyspark\"')\n",
    "plt.title('Qestion count with tag \"pyspark\" for every 30 days')\n",
    "plt.show()\n",
    "\n",
    "# Pearson coeffient\n",
    "print(\"The Peason coeffient of time and question count is {:0.2f}\".format(np.corrcoef(x,y)[0,1]))"
   ]
  },
  {
   "cell_type": "markdown",
   "metadata": {},
   "source": [
    "⬆From the figure above, we know that:\n",
    "1. The scatter figure above clearly show that the number of question with tag \"pyspark\" grow as the time increase, and they have a linear relationship. \n",
    "2. Moreover, the Peason coeffient of time and question count is very high(0.9 >0.7), which means they have a strong relation."
   ]
  }
 ],
 "metadata": {
  "kernelspec": {
   "display_name": "Python 3",
   "language": "python",
   "name": "python3"
  },
  "language_info": {
   "codemirror_mode": {
    "name": "ipython",
    "version": 3
   },
   "file_extension": ".py",
   "mimetype": "text/x-python",
   "name": "python",
   "nbconvert_exporter": "python",
   "pygments_lexer": "ipython3",
   "version": "3.6.5"
  }
 },
 "nbformat": 4,
 "nbformat_minor": 2
}
